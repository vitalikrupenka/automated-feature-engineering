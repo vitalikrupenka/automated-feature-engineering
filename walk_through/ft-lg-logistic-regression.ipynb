{
 "metadata": {
  "language_info": {
   "codemirror_mode": {
    "name": "ipython",
    "version": 3
   },
   "file_extension": ".py",
   "mimetype": "text/x-python",
   "name": "python",
   "nbconvert_exporter": "python",
   "pygments_lexer": "ipython3",
   "version": 3
  },
  "orig_nbformat": 2,
  "kernelspec": {
   "name": "python_defaultSpec_1595456002268",
   "display_name": "Python 3.8.1 64-bit"
  }
 },
 "nbformat": 4,
 "nbformat_minor": 2,
 "cells": [
  {
   "cell_type": "code",
   "execution_count": 8,
   "metadata": {},
   "outputs": [],
   "source": [
    "import pandas as pd \n",
    "import matplotlib.pyplot as plt"
   ]
  },
  {
   "cell_type": "code",
   "execution_count": 9,
   "metadata": {},
   "outputs": [
    {
     "output_type": "execute_result",
     "data": {
      "text/plain": "    user_id f_name   l_name  age  BY  RU  UA  D  USA  male  ...  student  \\\n9        25   Anna   Paddon   22   0   1   0  0    0     0  ...        1   \n1        14   Anna  Walters   37   0   0   1  0    0     0  ...        1   \n8        32   Anna  Cartman   33   0   0   0  1    0     0  ...        0   \n3         6    Ali   Khamad   24   0   1   0  0    0     0  ...        1   \n38        4   Jack  Woodson   41   0   0   0  0    1     1  ...        1   \n\n    teacher  agriculture  military  automotive  fitness  craftmanship  music  \\\n9         0            0         0           0        1             0      1   \n1         0            0         1           0        1             0      1   \n8         0            0         1           1        0             0      0   \n3         0            0         0           1        1             1      1   \n38        0            0         0           0        1             0      0   \n\n    hunting_fishing  num_looks_liked  \n9                 1               13  \n1                 0               16  \n8                 1               13  \n3                 0               14  \n38                1                8  \n\n[5 rows x 51 columns]",
      "text/html": "<div>\n<style scoped>\n    .dataframe tbody tr th:only-of-type {\n        vertical-align: middle;\n    }\n\n    .dataframe tbody tr th {\n        vertical-align: top;\n    }\n\n    .dataframe thead th {\n        text-align: right;\n    }\n</style>\n<table border=\"1\" class=\"dataframe\">\n  <thead>\n    <tr style=\"text-align: right;\">\n      <th></th>\n      <th>user_id</th>\n      <th>f_name</th>\n      <th>l_name</th>\n      <th>age</th>\n      <th>BY</th>\n      <th>RU</th>\n      <th>UA</th>\n      <th>D</th>\n      <th>USA</th>\n      <th>male</th>\n      <th>...</th>\n      <th>student</th>\n      <th>teacher</th>\n      <th>agriculture</th>\n      <th>military</th>\n      <th>automotive</th>\n      <th>fitness</th>\n      <th>craftmanship</th>\n      <th>music</th>\n      <th>hunting_fishing</th>\n      <th>num_looks_liked</th>\n    </tr>\n  </thead>\n  <tbody>\n    <tr>\n      <th>9</th>\n      <td>25</td>\n      <td>Anna</td>\n      <td>Paddon</td>\n      <td>22</td>\n      <td>0</td>\n      <td>1</td>\n      <td>0</td>\n      <td>0</td>\n      <td>0</td>\n      <td>0</td>\n      <td>...</td>\n      <td>1</td>\n      <td>0</td>\n      <td>0</td>\n      <td>0</td>\n      <td>0</td>\n      <td>1</td>\n      <td>0</td>\n      <td>1</td>\n      <td>1</td>\n      <td>13</td>\n    </tr>\n    <tr>\n      <th>1</th>\n      <td>14</td>\n      <td>Anna</td>\n      <td>Walters</td>\n      <td>37</td>\n      <td>0</td>\n      <td>0</td>\n      <td>1</td>\n      <td>0</td>\n      <td>0</td>\n      <td>0</td>\n      <td>...</td>\n      <td>1</td>\n      <td>0</td>\n      <td>0</td>\n      <td>1</td>\n      <td>0</td>\n      <td>1</td>\n      <td>0</td>\n      <td>1</td>\n      <td>0</td>\n      <td>16</td>\n    </tr>\n    <tr>\n      <th>8</th>\n      <td>32</td>\n      <td>Anna</td>\n      <td>Cartman</td>\n      <td>33</td>\n      <td>0</td>\n      <td>0</td>\n      <td>0</td>\n      <td>1</td>\n      <td>0</td>\n      <td>0</td>\n      <td>...</td>\n      <td>0</td>\n      <td>0</td>\n      <td>0</td>\n      <td>1</td>\n      <td>1</td>\n      <td>0</td>\n      <td>0</td>\n      <td>0</td>\n      <td>1</td>\n      <td>13</td>\n    </tr>\n    <tr>\n      <th>3</th>\n      <td>6</td>\n      <td>Ali</td>\n      <td>Khamad</td>\n      <td>24</td>\n      <td>0</td>\n      <td>1</td>\n      <td>0</td>\n      <td>0</td>\n      <td>0</td>\n      <td>0</td>\n      <td>...</td>\n      <td>1</td>\n      <td>0</td>\n      <td>0</td>\n      <td>0</td>\n      <td>1</td>\n      <td>1</td>\n      <td>1</td>\n      <td>1</td>\n      <td>0</td>\n      <td>14</td>\n    </tr>\n    <tr>\n      <th>38</th>\n      <td>4</td>\n      <td>Jack</td>\n      <td>Woodson</td>\n      <td>41</td>\n      <td>0</td>\n      <td>0</td>\n      <td>0</td>\n      <td>0</td>\n      <td>1</td>\n      <td>1</td>\n      <td>...</td>\n      <td>1</td>\n      <td>0</td>\n      <td>0</td>\n      <td>0</td>\n      <td>0</td>\n      <td>1</td>\n      <td>0</td>\n      <td>0</td>\n      <td>1</td>\n      <td>8</td>\n    </tr>\n  </tbody>\n</table>\n<p>5 rows × 51 columns</p>\n</div>"
     },
     "metadata": {},
     "execution_count": 9
    }
   ],
   "source": [
    "lg_features = pd.read_csv('data/lg_features.csv')\n",
    "lg_features.sample(5)"
   ]
  },
  {
   "cell_type": "code",
   "execution_count": 10,
   "metadata": {},
   "outputs": [],
   "source": [
    "lg_features = lg_features.dropna()"
   ]
  },
  {
   "cell_type": "code",
   "execution_count": 11,
   "metadata": {},
   "outputs": [
    {
     "output_type": "execute_result",
     "data": {
      "text/plain": "(40, 51)"
     },
     "metadata": {},
     "execution_count": 11
    }
   ],
   "source": [
    "lg_features.shape"
   ]
  },
  {
   "cell_type": "code",
   "execution_count": 12,
   "metadata": {},
   "outputs": [
    {
     "output_type": "execute_result",
     "data": {
      "text/plain": "user_id            23\nf_name             23\nl_name             23\nage                23\nBY                 23\nRU                 23\nUA                 23\nD                  23\nUSA                23\nmale               23\nfemale             23\nweight             23\nheight             23\nchest              23\nwaist              23\nhip                23\nleg                23\nred                23\nblue               23\ngreen              23\nyellow             23\ngrey               23\nwhite              23\nblack              23\nstyle_1            23\nstyle_2            23\nstyle_3            23\nstyle_4            23\nstyle_5            23\nH_M                23\nWaikiki            23\nArmani             23\nMoncler            23\nGucci              23\nAdidas             23\nNike               23\nBOSS               23\nLevi's             23\nKenzo              23\noffice             23\ndoctor             23\nstudent            23\nteacher            23\nagriculture        23\nmilitary           23\nautomotive         23\nfitness            23\ncraftmanship       23\nmusic              23\nhunting_fishing    23\nnum_looks_liked    23\ndtype: int64"
     },
     "metadata": {},
     "execution_count": 12
    }
   ],
   "source": [
    "lg_features.loc[lg_features['fitness'] == 1].count()"
   ]
  },
  {
   "cell_type": "code",
   "execution_count": 13,
   "metadata": {},
   "outputs": [],
   "source": [
    "lg_features = lg_features.drop(lg_features.loc[lg_features['fitness'] > 1].index)"
   ]
  },
  {
   "cell_type": "code",
   "execution_count": 14,
   "metadata": {},
   "outputs": [
    {
     "output_type": "execute_result",
     "data": {
      "text/plain": "(40, 51)"
     },
     "metadata": {},
     "execution_count": 14
    }
   ],
   "source": [
    "lg_features.shape"
   ]
  },
  {
   "cell_type": "code",
   "execution_count": 15,
   "metadata": {},
   "outputs": [
    {
     "output_type": "execute_result",
     "data": {
      "text/plain": "   user_id f_name   l_name  age  BY  RU  UA  D  USA  male  ...  student  \\\n0       33   Anna    Kenny   38   0   0   0  1    0     0  ...        0   \n1       14   Anna  Walters   37   0   0   1  0    0     0  ...        1   \n2       17   Anna    Woods   24   0   0   1  0    0     0  ...        0   \n3        6    Ali   Khamad   24   0   1   0  0    0     0  ...        1   \n4       30   Anna    Moore   43   0   0   0  0    1     0  ...        1   \n\n   teacher  agriculture  military  automotive  fitness  craftmanship  music  \\\n0        1            1         0           0        0             0      0   \n1        0            0         1           0        1             0      1   \n2        1            1         1           1        0             1      1   \n3        0            0         0           1        1             1      1   \n4        1            0         0           0        1             1      1   \n\n   hunting_fishing  num_looks_liked  \n0                0               16  \n1                0               16  \n2                0               15  \n3                0               14  \n4                1               14  \n\n[5 rows x 51 columns]",
      "text/html": "<div>\n<style scoped>\n    .dataframe tbody tr th:only-of-type {\n        vertical-align: middle;\n    }\n\n    .dataframe tbody tr th {\n        vertical-align: top;\n    }\n\n    .dataframe thead th {\n        text-align: right;\n    }\n</style>\n<table border=\"1\" class=\"dataframe\">\n  <thead>\n    <tr style=\"text-align: right;\">\n      <th></th>\n      <th>user_id</th>\n      <th>f_name</th>\n      <th>l_name</th>\n      <th>age</th>\n      <th>BY</th>\n      <th>RU</th>\n      <th>UA</th>\n      <th>D</th>\n      <th>USA</th>\n      <th>male</th>\n      <th>...</th>\n      <th>student</th>\n      <th>teacher</th>\n      <th>agriculture</th>\n      <th>military</th>\n      <th>automotive</th>\n      <th>fitness</th>\n      <th>craftmanship</th>\n      <th>music</th>\n      <th>hunting_fishing</th>\n      <th>num_looks_liked</th>\n    </tr>\n  </thead>\n  <tbody>\n    <tr>\n      <th>0</th>\n      <td>33</td>\n      <td>Anna</td>\n      <td>Kenny</td>\n      <td>38</td>\n      <td>0</td>\n      <td>0</td>\n      <td>0</td>\n      <td>1</td>\n      <td>0</td>\n      <td>0</td>\n      <td>...</td>\n      <td>0</td>\n      <td>1</td>\n      <td>1</td>\n      <td>0</td>\n      <td>0</td>\n      <td>0</td>\n      <td>0</td>\n      <td>0</td>\n      <td>0</td>\n      <td>16</td>\n    </tr>\n    <tr>\n      <th>1</th>\n      <td>14</td>\n      <td>Anna</td>\n      <td>Walters</td>\n      <td>37</td>\n      <td>0</td>\n      <td>0</td>\n      <td>1</td>\n      <td>0</td>\n      <td>0</td>\n      <td>0</td>\n      <td>...</td>\n      <td>1</td>\n      <td>0</td>\n      <td>0</td>\n      <td>1</td>\n      <td>0</td>\n      <td>1</td>\n      <td>0</td>\n      <td>1</td>\n      <td>0</td>\n      <td>16</td>\n    </tr>\n    <tr>\n      <th>2</th>\n      <td>17</td>\n      <td>Anna</td>\n      <td>Woods</td>\n      <td>24</td>\n      <td>0</td>\n      <td>0</td>\n      <td>1</td>\n      <td>0</td>\n      <td>0</td>\n      <td>0</td>\n      <td>...</td>\n      <td>0</td>\n      <td>1</td>\n      <td>1</td>\n      <td>1</td>\n      <td>1</td>\n      <td>0</td>\n      <td>1</td>\n      <td>1</td>\n      <td>0</td>\n      <td>15</td>\n    </tr>\n    <tr>\n      <th>3</th>\n      <td>6</td>\n      <td>Ali</td>\n      <td>Khamad</td>\n      <td>24</td>\n      <td>0</td>\n      <td>1</td>\n      <td>0</td>\n      <td>0</td>\n      <td>0</td>\n      <td>0</td>\n      <td>...</td>\n      <td>1</td>\n      <td>0</td>\n      <td>0</td>\n      <td>0</td>\n      <td>1</td>\n      <td>1</td>\n      <td>1</td>\n      <td>1</td>\n      <td>0</td>\n      <td>14</td>\n    </tr>\n    <tr>\n      <th>4</th>\n      <td>30</td>\n      <td>Anna</td>\n      <td>Moore</td>\n      <td>43</td>\n      <td>0</td>\n      <td>0</td>\n      <td>0</td>\n      <td>0</td>\n      <td>1</td>\n      <td>0</td>\n      <td>...</td>\n      <td>1</td>\n      <td>1</td>\n      <td>0</td>\n      <td>0</td>\n      <td>0</td>\n      <td>1</td>\n      <td>1</td>\n      <td>1</td>\n      <td>1</td>\n      <td>14</td>\n    </tr>\n  </tbody>\n</table>\n<p>5 rows × 51 columns</p>\n</div>"
     },
     "metadata": {},
     "execution_count": 15
    }
   ],
   "source": [
    "lg_features.head()"
   ]
  },
  {
   "cell_type": "code",
   "execution_count": 18,
   "metadata": {},
   "outputs": [
    {
     "output_type": "execute_result",
     "data": {
      "text/plain": "array(['Kenny', 'Walters', 'Woods', 'Khamad', 'Moore', 'Swift', 'Bools',\n       'Butler', 'Cartman', 'Paddon', 'Washington', 'Armstrong', 'Bets',\n       'Jameson', 'Kennedy', 'Pen', 'Varaksa', 'Bandini', 'Doe', 'Dogg',\n       'Fernandez', 'Johnson', 'Loeb', 'Pauls', 'Watson', 'Evans',\n       'Stepton', 'Cole', 'Daniels', 'Mills', 'Ogier', 'Soronson',\n       'Stockton', 'the Blondie', 'Holmes', 'Makovski', 'McCarthy',\n       'Tollers', 'Woodson', 'Ballantines'], dtype=object)"
     },
     "metadata": {},
     "execution_count": 18
    }
   ],
   "source": [
    "lg_features['l_name'].unique()"
   ]
  },
  {
   "cell_type": "code",
   "execution_count": 19,
   "metadata": {},
   "outputs": [],
   "source": [
    "lg_features = pd.get_dummies(lg_features, columns=['f_name', 'l_name'])"
   ]
  },
  {
   "cell_type": "code",
   "execution_count": 20,
   "metadata": {},
   "outputs": [
    {
     "output_type": "execute_result",
     "data": {
      "text/plain": "(40, 99)"
     },
     "metadata": {},
     "execution_count": 20
    }
   ],
   "source": [
    "lg_features.shape"
   ]
  },
  {
   "cell_type": "code",
   "execution_count": 23,
   "metadata": {},
   "outputs": [
    {
     "output_type": "execute_result",
     "data": {
      "text/plain": "    user_id  age  BY  RU  UA  D  USA  male  female  weight  ...  \\\n8        32   33   0   0   0  1    0     0       1      82  ...   \n28       12   23   1   0   0  0    0     0       1      55  ...   \n33        2   38   0   0   0  1    0     0       1      63  ...   \n1        14   37   0   0   1  0    0     0       1      89  ...   \n31        7   28   1   0   0  0    0     0       1      56  ...   \n\n    l_name_Stockton  l_name_Swift  l_name_Tollers  l_name_Varaksa  \\\n8                 0             0               0               0   \n28                0             0               0               0   \n33                0             0               0               0   \n1                 0             0               0               0   \n31                0             0               0               0   \n\n    l_name_Walters  l_name_Washington  l_name_Watson  l_name_Woods  \\\n8                0                  0              0             0   \n28               0                  0              0             0   \n33               0                  0              0             0   \n1                1                  0              0             0   \n31               0                  0              0             0   \n\n    l_name_Woodson  l_name_the Blondie  \n8                0                   0  \n28               0                   0  \n33               0                   1  \n1                0                   0  \n31               0                   0  \n\n[5 rows x 99 columns]",
      "text/html": "<div>\n<style scoped>\n    .dataframe tbody tr th:only-of-type {\n        vertical-align: middle;\n    }\n\n    .dataframe tbody tr th {\n        vertical-align: top;\n    }\n\n    .dataframe thead th {\n        text-align: right;\n    }\n</style>\n<table border=\"1\" class=\"dataframe\">\n  <thead>\n    <tr style=\"text-align: right;\">\n      <th></th>\n      <th>user_id</th>\n      <th>age</th>\n      <th>BY</th>\n      <th>RU</th>\n      <th>UA</th>\n      <th>D</th>\n      <th>USA</th>\n      <th>male</th>\n      <th>female</th>\n      <th>weight</th>\n      <th>...</th>\n      <th>l_name_Stockton</th>\n      <th>l_name_Swift</th>\n      <th>l_name_Tollers</th>\n      <th>l_name_Varaksa</th>\n      <th>l_name_Walters</th>\n      <th>l_name_Washington</th>\n      <th>l_name_Watson</th>\n      <th>l_name_Woods</th>\n      <th>l_name_Woodson</th>\n      <th>l_name_the Blondie</th>\n    </tr>\n  </thead>\n  <tbody>\n    <tr>\n      <th>8</th>\n      <td>32</td>\n      <td>33</td>\n      <td>0</td>\n      <td>0</td>\n      <td>0</td>\n      <td>1</td>\n      <td>0</td>\n      <td>0</td>\n      <td>1</td>\n      <td>82</td>\n      <td>...</td>\n      <td>0</td>\n      <td>0</td>\n      <td>0</td>\n      <td>0</td>\n      <td>0</td>\n      <td>0</td>\n      <td>0</td>\n      <td>0</td>\n      <td>0</td>\n      <td>0</td>\n    </tr>\n    <tr>\n      <th>28</th>\n      <td>12</td>\n      <td>23</td>\n      <td>1</td>\n      <td>0</td>\n      <td>0</td>\n      <td>0</td>\n      <td>0</td>\n      <td>0</td>\n      <td>1</td>\n      <td>55</td>\n      <td>...</td>\n      <td>0</td>\n      <td>0</td>\n      <td>0</td>\n      <td>0</td>\n      <td>0</td>\n      <td>0</td>\n      <td>0</td>\n      <td>0</td>\n      <td>0</td>\n      <td>0</td>\n    </tr>\n    <tr>\n      <th>33</th>\n      <td>2</td>\n      <td>38</td>\n      <td>0</td>\n      <td>0</td>\n      <td>0</td>\n      <td>1</td>\n      <td>0</td>\n      <td>0</td>\n      <td>1</td>\n      <td>63</td>\n      <td>...</td>\n      <td>0</td>\n      <td>0</td>\n      <td>0</td>\n      <td>0</td>\n      <td>0</td>\n      <td>0</td>\n      <td>0</td>\n      <td>0</td>\n      <td>0</td>\n      <td>1</td>\n    </tr>\n    <tr>\n      <th>1</th>\n      <td>14</td>\n      <td>37</td>\n      <td>0</td>\n      <td>0</td>\n      <td>1</td>\n      <td>0</td>\n      <td>0</td>\n      <td>0</td>\n      <td>1</td>\n      <td>89</td>\n      <td>...</td>\n      <td>0</td>\n      <td>0</td>\n      <td>0</td>\n      <td>0</td>\n      <td>1</td>\n      <td>0</td>\n      <td>0</td>\n      <td>0</td>\n      <td>0</td>\n      <td>0</td>\n    </tr>\n    <tr>\n      <th>31</th>\n      <td>7</td>\n      <td>28</td>\n      <td>1</td>\n      <td>0</td>\n      <td>0</td>\n      <td>0</td>\n      <td>0</td>\n      <td>0</td>\n      <td>1</td>\n      <td>56</td>\n      <td>...</td>\n      <td>0</td>\n      <td>0</td>\n      <td>0</td>\n      <td>0</td>\n      <td>0</td>\n      <td>0</td>\n      <td>0</td>\n      <td>0</td>\n      <td>0</td>\n      <td>0</td>\n    </tr>\n  </tbody>\n</table>\n<p>5 rows × 99 columns</p>\n</div>"
     },
     "metadata": {},
     "execution_count": 23
    }
   ],
   "source": [
    "lg_features.sample(5)"
   ]
  },
  {
   "cell_type": "code",
   "execution_count": 25,
   "metadata": {},
   "outputs": [
    {
     "output_type": "execute_result",
     "data": {
      "text/plain": "75.0"
     },
     "metadata": {},
     "execution_count": 25
    }
   ],
   "source": [
    "median_weight = lg_features['weight'].median()\n",
    "median_weight"
   ]
  },
  {
   "cell_type": "code",
   "execution_count": 26,
   "metadata": {},
   "outputs": [],
   "source": [
    "lg_features['weight_above_median'] = (lg_features['weight'] - median_weight) > 0"
   ]
  },
  {
   "cell_type": "code",
   "execution_count": 27,
   "metadata": {},
   "outputs": [
    {
     "output_type": "execute_result",
     "data": {
      "text/plain": "    user_id  age  BY  RU  UA  D  USA  male  female  weight  ...  l_name_Swift  \\\n23       36   48   0   0   0  1    0     0       1      56  ...             0   \n3         6   24   0   1   0  0    0     0       1      55  ...             0   \n1        14   37   0   0   1  0    0     0       1      89  ...             0   \n5        40   58   1   0   0  0    0     0       1      87  ...             1   \n7        16   61   1   0   0  0    0     0       1      73  ...             0   \n\n    l_name_Tollers  l_name_Varaksa  l_name_Walters  l_name_Washington  \\\n23               0               0               0                  0   \n3                0               0               0                  0   \n1                0               0               1                  0   \n5                0               0               0                  0   \n7                0               0               0                  0   \n\n    l_name_Watson  l_name_Woods  l_name_Woodson  l_name_the Blondie  \\\n23              0             0               0                   0   \n3               0             0               0                   0   \n1               0             0               0                   0   \n5               0             0               0                   0   \n7               0             0               0                   0   \n\n    weight_above_median  \n23                False  \n3                 False  \n1                  True  \n5                  True  \n7                 False  \n\n[5 rows x 100 columns]",
      "text/html": "<div>\n<style scoped>\n    .dataframe tbody tr th:only-of-type {\n        vertical-align: middle;\n    }\n\n    .dataframe tbody tr th {\n        vertical-align: top;\n    }\n\n    .dataframe thead th {\n        text-align: right;\n    }\n</style>\n<table border=\"1\" class=\"dataframe\">\n  <thead>\n    <tr style=\"text-align: right;\">\n      <th></th>\n      <th>user_id</th>\n      <th>age</th>\n      <th>BY</th>\n      <th>RU</th>\n      <th>UA</th>\n      <th>D</th>\n      <th>USA</th>\n      <th>male</th>\n      <th>female</th>\n      <th>weight</th>\n      <th>...</th>\n      <th>l_name_Swift</th>\n      <th>l_name_Tollers</th>\n      <th>l_name_Varaksa</th>\n      <th>l_name_Walters</th>\n      <th>l_name_Washington</th>\n      <th>l_name_Watson</th>\n      <th>l_name_Woods</th>\n      <th>l_name_Woodson</th>\n      <th>l_name_the Blondie</th>\n      <th>weight_above_median</th>\n    </tr>\n  </thead>\n  <tbody>\n    <tr>\n      <th>23</th>\n      <td>36</td>\n      <td>48</td>\n      <td>0</td>\n      <td>0</td>\n      <td>0</td>\n      <td>1</td>\n      <td>0</td>\n      <td>0</td>\n      <td>1</td>\n      <td>56</td>\n      <td>...</td>\n      <td>0</td>\n      <td>0</td>\n      <td>0</td>\n      <td>0</td>\n      <td>0</td>\n      <td>0</td>\n      <td>0</td>\n      <td>0</td>\n      <td>0</td>\n      <td>False</td>\n    </tr>\n    <tr>\n      <th>3</th>\n      <td>6</td>\n      <td>24</td>\n      <td>0</td>\n      <td>1</td>\n      <td>0</td>\n      <td>0</td>\n      <td>0</td>\n      <td>0</td>\n      <td>1</td>\n      <td>55</td>\n      <td>...</td>\n      <td>0</td>\n      <td>0</td>\n      <td>0</td>\n      <td>0</td>\n      <td>0</td>\n      <td>0</td>\n      <td>0</td>\n      <td>0</td>\n      <td>0</td>\n      <td>False</td>\n    </tr>\n    <tr>\n      <th>1</th>\n      <td>14</td>\n      <td>37</td>\n      <td>0</td>\n      <td>0</td>\n      <td>1</td>\n      <td>0</td>\n      <td>0</td>\n      <td>0</td>\n      <td>1</td>\n      <td>89</td>\n      <td>...</td>\n      <td>0</td>\n      <td>0</td>\n      <td>0</td>\n      <td>1</td>\n      <td>0</td>\n      <td>0</td>\n      <td>0</td>\n      <td>0</td>\n      <td>0</td>\n      <td>True</td>\n    </tr>\n    <tr>\n      <th>5</th>\n      <td>40</td>\n      <td>58</td>\n      <td>1</td>\n      <td>0</td>\n      <td>0</td>\n      <td>0</td>\n      <td>0</td>\n      <td>0</td>\n      <td>1</td>\n      <td>87</td>\n      <td>...</td>\n      <td>1</td>\n      <td>0</td>\n      <td>0</td>\n      <td>0</td>\n      <td>0</td>\n      <td>0</td>\n      <td>0</td>\n      <td>0</td>\n      <td>0</td>\n      <td>True</td>\n    </tr>\n    <tr>\n      <th>7</th>\n      <td>16</td>\n      <td>61</td>\n      <td>1</td>\n      <td>0</td>\n      <td>0</td>\n      <td>0</td>\n      <td>0</td>\n      <td>0</td>\n      <td>1</td>\n      <td>73</td>\n      <td>...</td>\n      <td>0</td>\n      <td>0</td>\n      <td>0</td>\n      <td>0</td>\n      <td>0</td>\n      <td>0</td>\n      <td>0</td>\n      <td>0</td>\n      <td>0</td>\n      <td>False</td>\n    </tr>\n  </tbody>\n</table>\n<p>5 rows × 100 columns</p>\n</div>"
     },
     "metadata": {},
     "execution_count": 27
    }
   ],
   "source": [
    "lg_features.sample(5)"
   ]
  },
  {
   "cell_type": "code",
   "execution_count": 28,
   "metadata": {},
   "outputs": [],
   "source": [
    "X = lg_features.drop(['weight', 'weight_above_median'], axis=1)\n",
    "Y = lg_features['weight_above_median']"
   ]
  },
  {
   "cell_type": "code",
   "execution_count": 29,
   "metadata": {},
   "outputs": [
    {
     "output_type": "execute_result",
     "data": {
      "text/plain": "Index(['user_id', 'age', 'BY', 'RU', 'UA', 'D', 'USA', 'male', 'female',\n       'height', 'chest', 'waist', 'hip', 'leg', 'red', 'blue', 'green',\n       'yellow', 'grey', 'white', 'black', 'style_1', 'style_2', 'style_3',\n       'style_4', 'style_5', 'H_M', 'Waikiki', 'Armani', 'Moncler', 'Gucci',\n       'Adidas', 'Nike', 'BOSS', 'Levi's', 'Kenzo', 'office', 'doctor',\n       'student', 'teacher', 'agriculture', 'military', 'automotive',\n       'fitness', 'craftmanship', 'music', 'hunting_fishing',\n       'num_looks_liked', 'f_name_Ali', 'f_name_Anna', 'f_name_Ben',\n       'f_name_Jack', 'f_name_John', 'f_name_Lily', 'f_name_Linda',\n       'f_name_Ruslan', 'f_name_Sean', 'f_name_Snoop', 'l_name_Armstrong',\n       'l_name_Ballantines', 'l_name_Bandini', 'l_name_Bets', 'l_name_Bools',\n       'l_name_Butler', 'l_name_Cartman', 'l_name_Cole', 'l_name_Daniels',\n       'l_name_Doe', 'l_name_Dogg', 'l_name_Evans', 'l_name_Fernandez',\n       'l_name_Holmes', 'l_name_Jameson', 'l_name_Johnson', 'l_name_Kennedy',\n       'l_name_Kenny', 'l_name_Khamad', 'l_name_Loeb', 'l_name_Makovski',\n       'l_name_McCarthy', 'l_name_Mills', 'l_name_Moore', 'l_name_Ogier',\n       'l_name_Paddon', 'l_name_Pauls', 'l_name_Pen', 'l_name_Soronson',\n       'l_name_Stepton', 'l_name_Stockton', 'l_name_Swift', 'l_name_Tollers',\n       'l_name_Varaksa', 'l_name_Walters', 'l_name_Washington',\n       'l_name_Watson', 'l_name_Woods', 'l_name_Woodson',\n       'l_name_the Blondie'],\n      dtype='object')"
     },
     "metadata": {},
     "execution_count": 29
    }
   ],
   "source": [
    "X.columns"
   ]
  },
  {
   "cell_type": "code",
   "execution_count": 30,
   "metadata": {},
   "outputs": [],
   "source": [
    "from sklearn.model_selection import train_test_split\n",
    "\n",
    "x_train, x_test, y_train, y_test = train_test_split(X, Y, test_size=0.2)"
   ]
  },
  {
   "cell_type": "code",
   "execution_count": 31,
   "metadata": {},
   "outputs": [
    {
     "output_type": "execute_result",
     "data": {
      "text/plain": "((32, 98), (8, 98))"
     },
     "metadata": {},
     "execution_count": 31
    }
   ],
   "source": [
    "x_train.shape, x_test.shape"
   ]
  },
  {
   "cell_type": "code",
   "execution_count": 32,
   "metadata": {},
   "outputs": [],
   "source": [
    "from sklearn.linear_model import LogisticRegression\n",
    "logistic_model = LogisticRegression(solver='liblinear').fit(x_train, y_train)"
   ]
  },
  {
   "cell_type": "code",
   "execution_count": 33,
   "metadata": {
    "tags": []
   },
   "outputs": [
    {
     "output_type": "stream",
     "name": "stdout",
     "text": "Training score:  1.0\n"
    }
   ],
   "source": [
    "print('Training score: ', logistic_model.score(x_train, y_train))"
   ]
  },
  {
   "cell_type": "code",
   "execution_count": 34,
   "metadata": {},
   "outputs": [],
   "source": [
    "y_pred = logistic_model.predict(x_test)"
   ]
  },
  {
   "cell_type": "code",
   "execution_count": 39,
   "metadata": {},
   "outputs": [
    {
     "output_type": "execute_result",
     "data": {
      "text/plain": "    predicted  actual\n17      False   False\n11      False    True\n38      False    True\n8        True    True\n29      False   False\n14       True   False\n13      False   False\n3       False   False",
      "text/html": "<div>\n<style scoped>\n    .dataframe tbody tr th:only-of-type {\n        vertical-align: middle;\n    }\n\n    .dataframe tbody tr th {\n        vertical-align: top;\n    }\n\n    .dataframe thead th {\n        text-align: right;\n    }\n</style>\n<table border=\"1\" class=\"dataframe\">\n  <thead>\n    <tr style=\"text-align: right;\">\n      <th></th>\n      <th>predicted</th>\n      <th>actual</th>\n    </tr>\n  </thead>\n  <tbody>\n    <tr>\n      <th>17</th>\n      <td>False</td>\n      <td>False</td>\n    </tr>\n    <tr>\n      <th>11</th>\n      <td>False</td>\n      <td>True</td>\n    </tr>\n    <tr>\n      <th>38</th>\n      <td>False</td>\n      <td>True</td>\n    </tr>\n    <tr>\n      <th>8</th>\n      <td>True</td>\n      <td>True</td>\n    </tr>\n    <tr>\n      <th>29</th>\n      <td>False</td>\n      <td>False</td>\n    </tr>\n    <tr>\n      <th>14</th>\n      <td>True</td>\n      <td>False</td>\n    </tr>\n    <tr>\n      <th>13</th>\n      <td>False</td>\n      <td>False</td>\n    </tr>\n    <tr>\n      <th>3</th>\n      <td>False</td>\n      <td>False</td>\n    </tr>\n  </tbody>\n</table>\n</div>"
     },
     "metadata": {},
     "execution_count": 39
    }
   ],
   "source": [
    "df_pred_actual = pd.DataFrame({'predicted': y_pred, 'actual': y_test})\n",
    "df_pred_actual.head(10)"
   ]
  },
  {
   "cell_type": "code",
   "execution_count": 40,
   "metadata": {
    "tags": []
   },
   "outputs": [
    {
     "output_type": "stream",
     "name": "stdout",
     "text": "Accuracy score:  0.625\n"
    }
   ],
   "source": [
    "from sklearn.metrics import accuracy_score\n",
    "print('Accuracy score: ', accuracy_score(y_test, y_pred))"
   ]
  },
  {
   "cell_type": "code",
   "execution_count": null,
   "metadata": {},
   "outputs": [],
   "source": []
  }
 ]
}