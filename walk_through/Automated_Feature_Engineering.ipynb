{
 "cells": [
  {
   "cell_type": "markdown",
   "metadata": {
    "colab_type": "text",
    "id": "MockJ-NBFvgv"
   },
   "source": [
    "# Introduction: Automated Feature Engineering\n",
    "\n",
    "In this notebook, we will look at an exciting development in data science: automated feature engineering. A machine learning model can only learn from the data we give it, and making sure that data is relevant to the task is one of the most crucial steps in the machine learning pipeline (this is made clear in the excellent paper [\"A Few Useful Things to Know about Machine Learning\"](https://homes.cs.washington.edu/~pedrod/papers/cacm12.pdf)). \n",
    "\n",
    "However, manual feature engineering is a tedious task and is limited by both human imagination - there are only so many features we can think to create - and by time - creating new features is time-intensive. Ideally, there would be an objective method to create an array of diverse new candidate features that we can then use for a machine learning task. This process is meant to not replace the data scientist, but to make her job easier and allowing her to supplement domain knowledge with an automated workflow.\n",
    "\n",
    "In this notebook, we will walk through an implementation of using [Featuretools](https://www.featuretools.com/), an open-source Python library for automatically creating features with relational data (where the data is in structured tables). Although there are now many efforts working to enable automated model selection and hyperparameter tuning, there has been a lack of automating work on the feature engineering aspect of the pipeline. This library seeks to close that gap and the general methodology has been proven effective in both [machine learning competitions with the data science machine](https://github.com/HDI-Project/Data-Science-Machine) and [business use cases](https://www.featurelabs.com/blog/predicting-credit-card-fraud/). \n",
    "\n",
    "\n",
    "## Dataset\n",
    "\n",
    "To show the basic idea of featuretools we will use an example dataset consisting of three tables:\n",
    "\n",
    "* `clients`: information about clients at a credit union\n",
    "* `loans`: previous loans taken out by the clients\n",
    "* `payments`: payments made/missed on the previous loans\n",
    "\n",
    "The general problem of feature engineering is taking disparate data, often distributed across multiple tables, and combining it into a single table that can be used for training a machine learning model. Featuretools has the ability to do this for us, creating many new candidate features with minimal effort. These features are combined into a single table that can then be passed on to our model. \n",
    "\n",
    "First, let's load in the data and look at the problem we are working with."
   ]
  },
  {
   "cell_type": "code",
   "execution_count": 1,
   "metadata": {
    "colab": {
     "autoexec": {
      "startup": false,
      "wait_interval": 0
     }
    },
    "colab_type": "code",
    "id": "4zDxrOS8F_t0"
   },
   "outputs": [],
   "source": [
    "# Run this if featuretools is not already installed\n",
    "# !pip install -U featuretools"
   ]
  },
  {
   "cell_type": "code",
   "execution_count": 8,
   "metadata": {
    "colab": {
     "autoexec": {
      "startup": false,
      "wait_interval": 0
     }
    },
    "colab_type": "code",
    "id": "Og7QpzFkFrf9"
   },
   "outputs": [],
   "source": [
    "# pandas and numpy for data manipulation\n",
    "import pandas as pd\n",
    "import numpy as np\n",
    "\n",
    "# featuretools for automated feature engineering\n",
    "import featuretools as ft\n",
    "\n",
    "# ignore warnings from pandas\n",
    "import warnings\n",
    "warnings.filterwarnings('ignore')"
   ]
  },
  {
   "cell_type": "code",
   "execution_count": 9,
   "metadata": {
    "colab": {
     "autoexec": {
      "startup": false,
      "wait_interval": 0
     }
    },
    "colab_type": "code",
    "id": "BGkrloKKGbD2"
   },
   "outputs": [],
   "source": [
    "# Read in the data\n",
    "clients = pd.read_csv('data/clients.csv', parse_dates = ['joined'])\n",
    "loans = pd.read_csv('data/loans.csv', parse_dates = ['loan_start', 'loan_end'])\n",
    "payments = pd.read_csv('data/payments.csv', parse_dates = ['payment_date'])"
   ]
  },
  {
   "cell_type": "code",
   "execution_count": 10,
   "metadata": {
    "colab": {
     "autoexec": {
      "startup": false,
      "wait_interval": 0
     }
    },
    "colab_type": "code",
    "id": "08ST5lOrrTxg"
   },
   "outputs": [
    {
     "output_type": "execute_result",
     "data": {
      "text/plain": "   client_id     joined  income  credit_score\n0      46109 2002-04-16  172677           527\n1      49545 2007-11-14  104564           770\n2      41480 2013-03-11  122607           585\n3      46180 2001-11-06   43851           562\n4      25707 2006-10-06  211422           621",
      "text/html": "<div>\n<style scoped>\n    .dataframe tbody tr th:only-of-type {\n        vertical-align: middle;\n    }\n\n    .dataframe tbody tr th {\n        vertical-align: top;\n    }\n\n    .dataframe thead th {\n        text-align: right;\n    }\n</style>\n<table border=\"1\" class=\"dataframe\">\n  <thead>\n    <tr style=\"text-align: right;\">\n      <th></th>\n      <th>client_id</th>\n      <th>joined</th>\n      <th>income</th>\n      <th>credit_score</th>\n    </tr>\n  </thead>\n  <tbody>\n    <tr>\n      <th>0</th>\n      <td>46109</td>\n      <td>2002-04-16</td>\n      <td>172677</td>\n      <td>527</td>\n    </tr>\n    <tr>\n      <th>1</th>\n      <td>49545</td>\n      <td>2007-11-14</td>\n      <td>104564</td>\n      <td>770</td>\n    </tr>\n    <tr>\n      <th>2</th>\n      <td>41480</td>\n      <td>2013-03-11</td>\n      <td>122607</td>\n      <td>585</td>\n    </tr>\n    <tr>\n      <th>3</th>\n      <td>46180</td>\n      <td>2001-11-06</td>\n      <td>43851</td>\n      <td>562</td>\n    </tr>\n    <tr>\n      <th>4</th>\n      <td>25707</td>\n      <td>2006-10-06</td>\n      <td>211422</td>\n      <td>621</td>\n    </tr>\n  </tbody>\n</table>\n</div>"
     },
     "metadata": {},
     "execution_count": 10
    }
   ],
   "source": [
    "clients.head()"
   ]
  },
  {
   "cell_type": "code",
   "execution_count": 73,
   "metadata": {
    "colab": {
     "autoexec": {
      "startup": false,
      "wait_interval": 0
     }
    },
    "colab_type": "code",
    "id": "S6TXsCZW3Rau"
   },
   "outputs": [
    {
     "output_type": "execute_result",
     "data": {
      "text/plain": "     client_id loan_type  loan_amount  repaid  loan_id loan_start   loan_end  \\\n174      35214      home        10800       1    11420 2013-07-06 2015-08-14   \n395      46958      cash        12586       0    11615 2002-10-22 2004-05-20   \n95       25707    credit        10636       0    10562 2000-12-29 2003-05-24   \n235      32961    credit        12553       1    11113 2001-09-08 2003-06-15   \n278      44601      home         3376       0    10724 2006-09-20 2008-11-12   \n70       46180     other        12325       1    11816 2014-03-11 2016-07-16   \n404      41472      home        13657       1    10166 2000-04-11 2001-09-08   \n337      39384      cash         3557       0    11100 2014-04-21 2016-12-29   \n40       41480      home         3812       0    11861 2005-06-18 2007-10-19   \n127      32726     other         5325       1    10858 2014-04-02 2016-10-30   \n\n     rate  \n174  2.21  \n395  2.25  \n95   4.59  \n235  2.98  \n278  0.29  \n70   6.13  \n404  5.68  \n337  4.16  \n40   1.01  \n127  2.83  ",
      "text/html": "<div>\n<style scoped>\n    .dataframe tbody tr th:only-of-type {\n        vertical-align: middle;\n    }\n\n    .dataframe tbody tr th {\n        vertical-align: top;\n    }\n\n    .dataframe thead th {\n        text-align: right;\n    }\n</style>\n<table border=\"1\" class=\"dataframe\">\n  <thead>\n    <tr style=\"text-align: right;\">\n      <th></th>\n      <th>client_id</th>\n      <th>loan_type</th>\n      <th>loan_amount</th>\n      <th>repaid</th>\n      <th>loan_id</th>\n      <th>loan_start</th>\n      <th>loan_end</th>\n      <th>rate</th>\n    </tr>\n  </thead>\n  <tbody>\n    <tr>\n      <th>174</th>\n      <td>35214</td>\n      <td>home</td>\n      <td>10800</td>\n      <td>1</td>\n      <td>11420</td>\n      <td>2013-07-06</td>\n      <td>2015-08-14</td>\n      <td>2.21</td>\n    </tr>\n    <tr>\n      <th>395</th>\n      <td>46958</td>\n      <td>cash</td>\n      <td>12586</td>\n      <td>0</td>\n      <td>11615</td>\n      <td>2002-10-22</td>\n      <td>2004-05-20</td>\n      <td>2.25</td>\n    </tr>\n    <tr>\n      <th>95</th>\n      <td>25707</td>\n      <td>credit</td>\n      <td>10636</td>\n      <td>0</td>\n      <td>10562</td>\n      <td>2000-12-29</td>\n      <td>2003-05-24</td>\n      <td>4.59</td>\n    </tr>\n    <tr>\n      <th>235</th>\n      <td>32961</td>\n      <td>credit</td>\n      <td>12553</td>\n      <td>1</td>\n      <td>11113</td>\n      <td>2001-09-08</td>\n      <td>2003-06-15</td>\n      <td>2.98</td>\n    </tr>\n    <tr>\n      <th>278</th>\n      <td>44601</td>\n      <td>home</td>\n      <td>3376</td>\n      <td>0</td>\n      <td>10724</td>\n      <td>2006-09-20</td>\n      <td>2008-11-12</td>\n      <td>0.29</td>\n    </tr>\n    <tr>\n      <th>70</th>\n      <td>46180</td>\n      <td>other</td>\n      <td>12325</td>\n      <td>1</td>\n      <td>11816</td>\n      <td>2014-03-11</td>\n      <td>2016-07-16</td>\n      <td>6.13</td>\n    </tr>\n    <tr>\n      <th>404</th>\n      <td>41472</td>\n      <td>home</td>\n      <td>13657</td>\n      <td>1</td>\n      <td>10166</td>\n      <td>2000-04-11</td>\n      <td>2001-09-08</td>\n      <td>5.68</td>\n    </tr>\n    <tr>\n      <th>337</th>\n      <td>39384</td>\n      <td>cash</td>\n      <td>3557</td>\n      <td>0</td>\n      <td>11100</td>\n      <td>2014-04-21</td>\n      <td>2016-12-29</td>\n      <td>4.16</td>\n    </tr>\n    <tr>\n      <th>40</th>\n      <td>41480</td>\n      <td>home</td>\n      <td>3812</td>\n      <td>0</td>\n      <td>11861</td>\n      <td>2005-06-18</td>\n      <td>2007-10-19</td>\n      <td>1.01</td>\n    </tr>\n    <tr>\n      <th>127</th>\n      <td>32726</td>\n      <td>other</td>\n      <td>5325</td>\n      <td>1</td>\n      <td>10858</td>\n      <td>2014-04-02</td>\n      <td>2016-10-30</td>\n      <td>2.83</td>\n    </tr>\n  </tbody>\n</table>\n</div>"
     },
     "metadata": {},
     "execution_count": 73
    }
   ],
   "source": [
    "loans.sample(10)"
   ]
  },
  {
   "cell_type": "code",
   "execution_count": 74,
   "metadata": {
    "colab": {
     "autoexec": {
      "startup": false,
      "wait_interval": 0
     }
    },
    "colab_type": "code",
    "id": "uIOMlPAD3TfZ"
   },
   "outputs": [
    {
     "output_type": "execute_result",
     "data": {
      "text/plain": "      loan_id  payment_amount payment_date  missed\n2725    10341             653   2012-03-02       0\n1012    11939             525   2005-11-09       1\n3306    10826            1657   2005-02-02       1\n1286    11264             273   2009-11-27       1\n2792    10427            1579   2008-01-15       0\n3379    11230              69   2003-05-07       1\n2154    11320            1182   2010-01-11       1\n2867    10115            2416   2012-04-11       0\n1699    10906             319   2012-09-05       1\n1698    10906             492   2012-07-22       1",
      "text/html": "<div>\n<style scoped>\n    .dataframe tbody tr th:only-of-type {\n        vertical-align: middle;\n    }\n\n    .dataframe tbody tr th {\n        vertical-align: top;\n    }\n\n    .dataframe thead th {\n        text-align: right;\n    }\n</style>\n<table border=\"1\" class=\"dataframe\">\n  <thead>\n    <tr style=\"text-align: right;\">\n      <th></th>\n      <th>loan_id</th>\n      <th>payment_amount</th>\n      <th>payment_date</th>\n      <th>missed</th>\n    </tr>\n  </thead>\n  <tbody>\n    <tr>\n      <th>2725</th>\n      <td>10341</td>\n      <td>653</td>\n      <td>2012-03-02</td>\n      <td>0</td>\n    </tr>\n    <tr>\n      <th>1012</th>\n      <td>11939</td>\n      <td>525</td>\n      <td>2005-11-09</td>\n      <td>1</td>\n    </tr>\n    <tr>\n      <th>3306</th>\n      <td>10826</td>\n      <td>1657</td>\n      <td>2005-02-02</td>\n      <td>1</td>\n    </tr>\n    <tr>\n      <th>1286</th>\n      <td>11264</td>\n      <td>273</td>\n      <td>2009-11-27</td>\n      <td>1</td>\n    </tr>\n    <tr>\n      <th>2792</th>\n      <td>10427</td>\n      <td>1579</td>\n      <td>2008-01-15</td>\n      <td>0</td>\n    </tr>\n    <tr>\n      <th>3379</th>\n      <td>11230</td>\n      <td>69</td>\n      <td>2003-05-07</td>\n      <td>1</td>\n    </tr>\n    <tr>\n      <th>2154</th>\n      <td>11320</td>\n      <td>1182</td>\n      <td>2010-01-11</td>\n      <td>1</td>\n    </tr>\n    <tr>\n      <th>2867</th>\n      <td>10115</td>\n      <td>2416</td>\n      <td>2012-04-11</td>\n      <td>0</td>\n    </tr>\n    <tr>\n      <th>1699</th>\n      <td>10906</td>\n      <td>319</td>\n      <td>2012-09-05</td>\n      <td>1</td>\n    </tr>\n    <tr>\n      <th>1698</th>\n      <td>10906</td>\n      <td>492</td>\n      <td>2012-07-22</td>\n      <td>1</td>\n    </tr>\n  </tbody>\n</table>\n</div>"
     },
     "metadata": {},
     "execution_count": 74
    }
   ],
   "source": [
    "payments.sample(10)"
   ]
  },
  {
   "cell_type": "markdown",
   "metadata": {
    "colab_type": "text",
    "id": "AvmwEpIbrQIW"
   },
   "source": [
    "### Manual Feature Engineering Examples\n",
    "\n",
    "Let's show a few examples of features we might make by hand. We will keep this relatively simple to avoid doing too much work! First we will focus on a single dataframe before combining them together. In the `clients` dataframe, we can take the month of the `joined` column and the natural log of the `income` column. Later, we see these are known in featuretools as transformation feature primitives because they act on column in a single table. "
   ]
  },
  {
   "cell_type": "code",
   "execution_count": 75,
   "metadata": {
    "colab": {
     "autoexec": {
      "startup": false,
      "wait_interval": 0
     }
    },
    "colab_type": "code",
    "id": "PRTEs9XSUz94"
   },
   "outputs": [
    {
     "output_type": "execute_result",
     "data": {
      "text/plain": "   client_id     joined  income  credit_score  join_month  log_income\n0      46109 2002-04-16  172677           527           4   12.059178\n1      49545 2007-11-14  104564           770          11   11.557555\n2      41480 2013-03-11  122607           585           3   11.716739\n3      46180 2001-11-06   43851           562          11   10.688553\n4      25707 2006-10-06  211422           621          10   12.261611",
      "text/html": "<div>\n<style scoped>\n    .dataframe tbody tr th:only-of-type {\n        vertical-align: middle;\n    }\n\n    .dataframe tbody tr th {\n        vertical-align: top;\n    }\n\n    .dataframe thead th {\n        text-align: right;\n    }\n</style>\n<table border=\"1\" class=\"dataframe\">\n  <thead>\n    <tr style=\"text-align: right;\">\n      <th></th>\n      <th>client_id</th>\n      <th>joined</th>\n      <th>income</th>\n      <th>credit_score</th>\n      <th>join_month</th>\n      <th>log_income</th>\n    </tr>\n  </thead>\n  <tbody>\n    <tr>\n      <th>0</th>\n      <td>46109</td>\n      <td>2002-04-16</td>\n      <td>172677</td>\n      <td>527</td>\n      <td>4</td>\n      <td>12.059178</td>\n    </tr>\n    <tr>\n      <th>1</th>\n      <td>49545</td>\n      <td>2007-11-14</td>\n      <td>104564</td>\n      <td>770</td>\n      <td>11</td>\n      <td>11.557555</td>\n    </tr>\n    <tr>\n      <th>2</th>\n      <td>41480</td>\n      <td>2013-03-11</td>\n      <td>122607</td>\n      <td>585</td>\n      <td>3</td>\n      <td>11.716739</td>\n    </tr>\n    <tr>\n      <th>3</th>\n      <td>46180</td>\n      <td>2001-11-06</td>\n      <td>43851</td>\n      <td>562</td>\n      <td>11</td>\n      <td>10.688553</td>\n    </tr>\n    <tr>\n      <th>4</th>\n      <td>25707</td>\n      <td>2006-10-06</td>\n      <td>211422</td>\n      <td>621</td>\n      <td>10</td>\n      <td>12.261611</td>\n    </tr>\n  </tbody>\n</table>\n</div>"
     },
     "metadata": {},
     "execution_count": 75
    }
   ],
   "source": [
    "# Create a month column\n",
    "clients['join_month'] = clients['joined'].dt.month\n",
    "\n",
    "# Create a log of income column\n",
    "clients['log_income'] = np.log(clients['income'])\n",
    "\n",
    "clients.head()"
   ]
  },
  {
   "cell_type": "markdown",
   "metadata": {
    "colab_type": "text",
    "id": "reiPaTnVs2Yk"
   },
   "source": [
    "To incorporate information about the other tables, we use the `df.groupby` method, followed by a suitable aggregation function, followed by `df.merge`.  For example, let's calculate the average, minimum, and maximum amount of previous loans for each client. In the terms of featuretools, this would be considered an aggregation feature primitive because we using multiple tables in a one-to-many relationship to calculate aggregation figures (don't worry, this will be explained shortly!)."
   ]
  },
  {
   "cell_type": "code",
   "execution_count": 76,
   "metadata": {
    "colab": {
     "autoexec": {
      "startup": false,
      "wait_interval": 0
     }
    },
    "colab_type": "code",
    "id": "rLOJHXqOs2GD"
   },
   "outputs": [
    {
     "output_type": "execute_result",
     "data": {
      "text/plain": "           mean_loan_amount  max_loan_amount  min_loan_amount\nclient_id                                                    \n25707           7963.950000            13913             1212\n26326           7270.062500            13464             1164\n26695           7824.722222            14865             2389\n26945           7125.933333            14593              653\n29841           9813.000000            14837             2778",
      "text/html": "<div>\n<style scoped>\n    .dataframe tbody tr th:only-of-type {\n        vertical-align: middle;\n    }\n\n    .dataframe tbody tr th {\n        vertical-align: top;\n    }\n\n    .dataframe thead th {\n        text-align: right;\n    }\n</style>\n<table border=\"1\" class=\"dataframe\">\n  <thead>\n    <tr style=\"text-align: right;\">\n      <th></th>\n      <th>mean_loan_amount</th>\n      <th>max_loan_amount</th>\n      <th>min_loan_amount</th>\n    </tr>\n    <tr>\n      <th>client_id</th>\n      <th></th>\n      <th></th>\n      <th></th>\n    </tr>\n  </thead>\n  <tbody>\n    <tr>\n      <th>25707</th>\n      <td>7963.950000</td>\n      <td>13913</td>\n      <td>1212</td>\n    </tr>\n    <tr>\n      <th>26326</th>\n      <td>7270.062500</td>\n      <td>13464</td>\n      <td>1164</td>\n    </tr>\n    <tr>\n      <th>26695</th>\n      <td>7824.722222</td>\n      <td>14865</td>\n      <td>2389</td>\n    </tr>\n    <tr>\n      <th>26945</th>\n      <td>7125.933333</td>\n      <td>14593</td>\n      <td>653</td>\n    </tr>\n    <tr>\n      <th>29841</th>\n      <td>9813.000000</td>\n      <td>14837</td>\n      <td>2778</td>\n    </tr>\n  </tbody>\n</table>\n</div>"
     },
     "metadata": {},
     "execution_count": 76
    }
   ],
   "source": [
    "# Groupby client id and calculate mean, max, min previous loan size\n",
    "stats = loans.groupby('client_id')['loan_amount'].agg(['mean', 'max', 'min'])\n",
    "stats.columns = ['mean_loan_amount', 'max_loan_amount', 'min_loan_amount']\n",
    "stats.head()"
   ]
  },
  {
   "cell_type": "code",
   "execution_count": 77,
   "metadata": {
    "colab": {
     "autoexec": {
      "startup": false,
      "wait_interval": 0
     }
    },
    "colab_type": "code",
    "id": "Kf63VwWytmm8"
   },
   "outputs": [
    {
     "output_type": "execute_result",
     "data": {
      "text/plain": "   client_id     joined  income  credit_score  join_month  log_income  \\\n0      46109 2002-04-16  172677           527           4   12.059178   \n1      49545 2007-11-14  104564           770          11   11.557555   \n2      41480 2013-03-11  122607           585           3   11.716739   \n3      46180 2001-11-06   43851           562          11   10.688553   \n4      25707 2006-10-06  211422           621          10   12.261611   \n5      39505 2011-10-14  153873           610          10   11.943883   \n6      32726 2006-05-01  235705           730           5   12.370336   \n7      35089 2010-03-01  131176           771           3   11.784295   \n8      35214 2003-08-08   95849           696           8   11.470529   \n9      48177 2008-06-09  190632           769           6   12.158100   \n\n   mean_loan_amount  max_loan_amount  min_loan_amount  \n0       8951.600000            14049              559  \n1      10289.300000            14971             3851  \n2       7894.850000            14399              811  \n3       7700.850000            14081             1607  \n4       7963.950000            13913             1212  \n5       7424.050000            14575              904  \n6       6633.263158            14802              851  \n7       6939.200000            13194              773  \n8       7173.555556            14767              667  \n9       7424.368421            14740              659  ",
      "text/html": "<div>\n<style scoped>\n    .dataframe tbody tr th:only-of-type {\n        vertical-align: middle;\n    }\n\n    .dataframe tbody tr th {\n        vertical-align: top;\n    }\n\n    .dataframe thead th {\n        text-align: right;\n    }\n</style>\n<table border=\"1\" class=\"dataframe\">\n  <thead>\n    <tr style=\"text-align: right;\">\n      <th></th>\n      <th>client_id</th>\n      <th>joined</th>\n      <th>income</th>\n      <th>credit_score</th>\n      <th>join_month</th>\n      <th>log_income</th>\n      <th>mean_loan_amount</th>\n      <th>max_loan_amount</th>\n      <th>min_loan_amount</th>\n    </tr>\n  </thead>\n  <tbody>\n    <tr>\n      <th>0</th>\n      <td>46109</td>\n      <td>2002-04-16</td>\n      <td>172677</td>\n      <td>527</td>\n      <td>4</td>\n      <td>12.059178</td>\n      <td>8951.600000</td>\n      <td>14049</td>\n      <td>559</td>\n    </tr>\n    <tr>\n      <th>1</th>\n      <td>49545</td>\n      <td>2007-11-14</td>\n      <td>104564</td>\n      <td>770</td>\n      <td>11</td>\n      <td>11.557555</td>\n      <td>10289.300000</td>\n      <td>14971</td>\n      <td>3851</td>\n    </tr>\n    <tr>\n      <th>2</th>\n      <td>41480</td>\n      <td>2013-03-11</td>\n      <td>122607</td>\n      <td>585</td>\n      <td>3</td>\n      <td>11.716739</td>\n      <td>7894.850000</td>\n      <td>14399</td>\n      <td>811</td>\n    </tr>\n    <tr>\n      <th>3</th>\n      <td>46180</td>\n      <td>2001-11-06</td>\n      <td>43851</td>\n      <td>562</td>\n      <td>11</td>\n      <td>10.688553</td>\n      <td>7700.850000</td>\n      <td>14081</td>\n      <td>1607</td>\n    </tr>\n    <tr>\n      <th>4</th>\n      <td>25707</td>\n      <td>2006-10-06</td>\n      <td>211422</td>\n      <td>621</td>\n      <td>10</td>\n      <td>12.261611</td>\n      <td>7963.950000</td>\n      <td>13913</td>\n      <td>1212</td>\n    </tr>\n    <tr>\n      <th>5</th>\n      <td>39505</td>\n      <td>2011-10-14</td>\n      <td>153873</td>\n      <td>610</td>\n      <td>10</td>\n      <td>11.943883</td>\n      <td>7424.050000</td>\n      <td>14575</td>\n      <td>904</td>\n    </tr>\n    <tr>\n      <th>6</th>\n      <td>32726</td>\n      <td>2006-05-01</td>\n      <td>235705</td>\n      <td>730</td>\n      <td>5</td>\n      <td>12.370336</td>\n      <td>6633.263158</td>\n      <td>14802</td>\n      <td>851</td>\n    </tr>\n    <tr>\n      <th>7</th>\n      <td>35089</td>\n      <td>2010-03-01</td>\n      <td>131176</td>\n      <td>771</td>\n      <td>3</td>\n      <td>11.784295</td>\n      <td>6939.200000</td>\n      <td>13194</td>\n      <td>773</td>\n    </tr>\n    <tr>\n      <th>8</th>\n      <td>35214</td>\n      <td>2003-08-08</td>\n      <td>95849</td>\n      <td>696</td>\n      <td>8</td>\n      <td>11.470529</td>\n      <td>7173.555556</td>\n      <td>14767</td>\n      <td>667</td>\n    </tr>\n    <tr>\n      <th>9</th>\n      <td>48177</td>\n      <td>2008-06-09</td>\n      <td>190632</td>\n      <td>769</td>\n      <td>6</td>\n      <td>12.158100</td>\n      <td>7424.368421</td>\n      <td>14740</td>\n      <td>659</td>\n    </tr>\n  </tbody>\n</table>\n</div>"
     },
     "metadata": {},
     "execution_count": 77
    }
   ],
   "source": [
    "# Merge with the clients dataframe\n",
    "clients.merge(stats, left_on = 'client_id', right_index=True, how = 'left').head(10)"
   ]
  },
  {
   "cell_type": "markdown",
   "metadata": {
    "colab_type": "text",
    "id": "0aVnENNBt6pN"
   },
   "source": [
    "We could go further and include information about `payments` in the `clients` dataframe. To do so, we would have to group `payments` by the `loan_id`, merge it with the `loans`, group the resulting dataframe by the `client_id`, and then merge it into the `clients` dataframe. This would allow us to include information about previous payments for each client. \n",
    "\n",
    "Clearly, this process of manual feature engineering can grow quite tedious with many columns and multiple tables and I certainly don't want to have to do this process by hand! Luckily, featuretools can automatically perform this entire process and will create more features than we would have ever thought of. Although I love `pandas`, there is only so much manual data manipulation I'm willing to stand! "
   ]
  },
  {
   "cell_type": "markdown",
   "metadata": {
    "colab_type": "text",
    "id": "UWAPnDJruqNs"
   },
   "source": [
    "# Featuretools\n",
    "\n",
    "Now that we know what we are trying to avoid (tedious manual feature engineering), let's figure out how to automate this process. Featuretools operates on an idea known as [Deep Feature Synthesis](https://docs.featuretools.com/api_reference.html#deep-feature-synthesis). You can read the [original paper here](http://www.jmaxkanter.com/static/papers/DSAA_DSM_2015.pdf), and although it's quite readable, it's not necessary to understand the details to do automated feature engineering. The concept of Deep Feature Synthesis is to use basic building blocks known as feature primitives (like the transformations and aggregations done above) that can be stacked on top of each other to form new features. The depth of a \"deep feature\" is equal to the number of stacked primitives. \n",
    "\n",
    "I threw out some terms there, but don't worry because we'll cover them as we go. Featuretools builds on simple ideas to create a powerful method, and we will build up our understanding in much the same way. \n",
    "\n",
    "The first part of Featuretools to understand [is an `entity`](https://docs.featuretools.com/loading_data/using_entitysets.html#adding-entities). This is simply a table, or in `pandas`, a `DataFrame`. We corral multiple entities into a [single object called an `EntitySet`](https://docs.featuretools.com/loading_data/using_entitysets.html). This is just a large data structure composed of many individual entities and the relationships between them.  \n",
    "\n",
    "## EntitySet\n",
    "\n",
    "Creating a new `EntitySet` is pretty simple: "
   ]
  },
  {
   "cell_type": "code",
   "execution_count": 78,
   "metadata": {
    "colab": {
     "autoexec": {
      "startup": false,
      "wait_interval": 0
     }
    },
    "colab_type": "code",
    "id": "XTwph48RGr9Q"
   },
   "outputs": [],
   "source": [
    "es = ft.EntitySet(id = 'clients')"
   ]
  },
  {
   "cell_type": "markdown",
   "metadata": {
    "colab_type": "text",
    "id": "pHJSYZU1Vro7"
   },
   "source": [
    "## Entities \n",
    "\n",
    "An entity is simply a table, which is represented in Pandas as a `dataframe`. Each entity must have a uniquely identifying column, known as an index. For the clients dataframe, this is the `client_id` because each id only appears once in the `clients` data. In the `loans` dataframe, `client_id` is not an index because each id might appear more than once. The index for this dataframe is instead `loan_id`. \n",
    "\n",
    "When we create an `entity` in featuretools, we have to identify which column of the dataframe is the index. If the data does not have a unique index we can tell featuretools to make an index for the entity by passing in `make_index = True` and specifying a name for the index. If the data also has a uniquely identifying time index, we can pass that in as the `time_index` parameter. \n",
    "\n",
    "Featuretools will automatically infer the variable types (numeric, categorical, datetime) of the columns in our data, but we can also pass in specific datatypes to override this behavior. As an example, even though the `repaid` column in the `loans` dataframe is represented as an integer, we can tell featuretools that this is a categorical feature since it can only take on two discrete values. This is done using an integer with the variables as keys and the feature types as values.\n",
    "\n",
    "In the code below we create the three entities and add them to the `EntitySet`.  The syntax is relatively straightforward with a few notes: for the `payments` dataframe we need to make an index, for the `loans` dataframe, we specify that `repaid` is a categorical variable, and for the `payments` dataframe, we specify that `missed` is a categorical feature. "
   ]
  },
  {
   "cell_type": "code",
   "execution_count": 99,
   "metadata": {
    "colab": {
     "autoexec": {
      "startup": false,
      "wait_interval": 0
     }
    },
    "colab_type": "code",
    "id": "iWORNI1MGwYQ"
   },
   "outputs": [],
   "source": [
    "# Create an entity from the client dataframe\n",
    "# This dataframe already has an index and a time index\n",
    "es = es.entity_from_dataframe(entity_id = 'clients', dataframe = clients, \n",
    "                              index = 'client_id', time_index = 'joined')"
   ]
  },
  {
   "cell_type": "code",
   "execution_count": 100,
   "metadata": {
    "colab": {
     "autoexec": {
      "startup": false,
      "wait_interval": 0
     }
    },
    "colab_type": "code",
    "id": "7_aDZl4IG98s"
   },
   "outputs": [],
   "source": [
    "# Create an entity from the loans dataframe\n",
    "# This dataframe already has an index and a time index\n",
    "es = es.entity_from_dataframe(entity_id = 'loans', dataframe = loans, \n",
    "                              variable_types = {'repaid': ft.variable_types.Categorical},\n",
    "                              index = 'loan_id', \n",
    "                              time_index = 'loan_start')"
   ]
  },
  {
   "cell_type": "code",
   "execution_count": 101,
   "metadata": {
    "colab": {
     "autoexec": {
      "startup": false,
      "wait_interval": 0
     }
    },
    "colab_type": "code",
    "id": "8VAjTWWbSXmi"
   },
   "outputs": [
    {
     "output_type": "error",
     "ename": "RuntimeError",
     "evalue": "Cannot make index: index variable already present",
     "traceback": [
      "\u001b[1;31m---------------------------------------------------------------------------\u001b[0m",
      "\u001b[1;31mRuntimeError\u001b[0m                              Traceback (most recent call last)",
      "\u001b[1;32m<ipython-input-101-1fa5ba27cb3b>\u001b[0m in \u001b[0;36m<module>\u001b[1;34m\u001b[0m\n\u001b[0;32m      1\u001b[0m \u001b[1;31m# Create an entity from the payments dataframe\u001b[0m\u001b[1;33m\u001b[0m\u001b[1;33m\u001b[0m\u001b[1;33m\u001b[0m\u001b[0m\n\u001b[0;32m      2\u001b[0m \u001b[1;31m# This does not yet have a unique index\u001b[0m\u001b[1;33m\u001b[0m\u001b[1;33m\u001b[0m\u001b[1;33m\u001b[0m\u001b[0m\n\u001b[1;32m----> 3\u001b[1;33m es = es.entity_from_dataframe(entity_id = 'payments', \n\u001b[0m\u001b[0;32m      4\u001b[0m                               \u001b[0mdataframe\u001b[0m \u001b[1;33m=\u001b[0m \u001b[0mpayments\u001b[0m\u001b[1;33m,\u001b[0m\u001b[1;33m\u001b[0m\u001b[1;33m\u001b[0m\u001b[0m\n\u001b[0;32m      5\u001b[0m                               \u001b[0mvariable_types\u001b[0m \u001b[1;33m=\u001b[0m \u001b[1;33m{\u001b[0m\u001b[1;34m'missed'\u001b[0m\u001b[1;33m:\u001b[0m \u001b[0mft\u001b[0m\u001b[1;33m.\u001b[0m\u001b[0mvariable_types\u001b[0m\u001b[1;33m.\u001b[0m\u001b[0mCategorical\u001b[0m\u001b[1;33m}\u001b[0m\u001b[1;33m,\u001b[0m\u001b[1;33m\u001b[0m\u001b[1;33m\u001b[0m\u001b[0m\n",
      "\u001b[1;32mC:\\Python38\\lib\\site-packages\\featuretools\\entityset\\entityset.py\u001b[0m in \u001b[0;36mentity_from_dataframe\u001b[1;34m(self, entity_id, dataframe, index, variable_types, make_index, time_index, secondary_time_index, already_sorted)\u001b[0m\n\u001b[0;32m    497\u001b[0m                                  \"of type {}\".format(type(dataframe), type(self.entities[0].df)))\n\u001b[0;32m    498\u001b[0m \u001b[1;33m\u001b[0m\u001b[0m\n\u001b[1;32m--> 499\u001b[1;33m         entity = Entity(\n\u001b[0m\u001b[0;32m    500\u001b[0m             \u001b[0mentity_id\u001b[0m\u001b[1;33m,\u001b[0m\u001b[1;33m\u001b[0m\u001b[1;33m\u001b[0m\u001b[0m\n\u001b[0;32m    501\u001b[0m             \u001b[0mdataframe\u001b[0m\u001b[1;33m,\u001b[0m\u001b[1;33m\u001b[0m\u001b[1;33m\u001b[0m\u001b[0m\n",
      "\u001b[1;32mC:\\Python38\\lib\\site-packages\\featuretools\\entityset\\entity.py\u001b[0m in \u001b[0;36m__init__\u001b[1;34m(self, id, df, entityset, variable_types, index, time_index, secondary_time_index, last_time_index, already_sorted, make_index, verbose)\u001b[0m\n\u001b[0;32m     64\u001b[0m         \"\"\"\n\u001b[0;32m     65\u001b[0m         \u001b[0m_validate_entity_params\u001b[0m\u001b[1;33m(\u001b[0m\u001b[0mid\u001b[0m\u001b[1;33m,\u001b[0m \u001b[0mdf\u001b[0m\u001b[1;33m,\u001b[0m \u001b[0mtime_index\u001b[0m\u001b[1;33m)\u001b[0m\u001b[1;33m\u001b[0m\u001b[1;33m\u001b[0m\u001b[0m\n\u001b[1;32m---> 66\u001b[1;33m         \u001b[0mcreated_index\u001b[0m\u001b[1;33m,\u001b[0m \u001b[0mindex\u001b[0m\u001b[1;33m,\u001b[0m \u001b[0mdf\u001b[0m \u001b[1;33m=\u001b[0m \u001b[0m_create_index\u001b[0m\u001b[1;33m(\u001b[0m\u001b[0mindex\u001b[0m\u001b[1;33m,\u001b[0m \u001b[0mmake_index\u001b[0m\u001b[1;33m,\u001b[0m \u001b[0mdf\u001b[0m\u001b[1;33m)\u001b[0m\u001b[1;33m\u001b[0m\u001b[1;33m\u001b[0m\u001b[0m\n\u001b[0m\u001b[0;32m     67\u001b[0m \u001b[1;33m\u001b[0m\u001b[0m\n\u001b[0;32m     68\u001b[0m         \u001b[0mself\u001b[0m\u001b[1;33m.\u001b[0m\u001b[0mid\u001b[0m \u001b[1;33m=\u001b[0m \u001b[0mid\u001b[0m\u001b[1;33m\u001b[0m\u001b[1;33m\u001b[0m\u001b[0m\n",
      "\u001b[1;32mC:\\Python38\\lib\\site-packages\\featuretools\\entityset\\entity.py\u001b[0m in \u001b[0;36m_create_index\u001b[1;34m(index, make_index, df)\u001b[0m\n\u001b[0;32m    581\u001b[0m     \u001b[1;32melif\u001b[0m \u001b[0mmake_index\u001b[0m \u001b[1;32mand\u001b[0m \u001b[0mindex\u001b[0m \u001b[1;32min\u001b[0m \u001b[0mdf\u001b[0m\u001b[1;33m.\u001b[0m\u001b[0mcolumns\u001b[0m\u001b[1;33m:\u001b[0m\u001b[1;33m\u001b[0m\u001b[1;33m\u001b[0m\u001b[0m\n\u001b[0;32m    582\u001b[0m         \u001b[1;31m# Case 3: user wanted to make index but column already exists\u001b[0m\u001b[1;33m\u001b[0m\u001b[1;33m\u001b[0m\u001b[1;33m\u001b[0m\u001b[0m\n\u001b[1;32m--> 583\u001b[1;33m         \u001b[1;32mraise\u001b[0m \u001b[0mRuntimeError\u001b[0m\u001b[1;33m(\u001b[0m\u001b[1;34m\"Cannot make index: index variable already present\"\u001b[0m\u001b[1;33m)\u001b[0m\u001b[1;33m\u001b[0m\u001b[1;33m\u001b[0m\u001b[0m\n\u001b[0m\u001b[0;32m    584\u001b[0m     \u001b[1;32melif\u001b[0m \u001b[0mindex\u001b[0m \u001b[1;32mnot\u001b[0m \u001b[1;32min\u001b[0m \u001b[0mdf\u001b[0m\u001b[1;33m.\u001b[0m\u001b[0mcolumns\u001b[0m\u001b[1;33m:\u001b[0m\u001b[1;33m\u001b[0m\u001b[1;33m\u001b[0m\u001b[0m\n\u001b[0;32m    585\u001b[0m         \u001b[1;32mif\u001b[0m \u001b[1;32mnot\u001b[0m \u001b[0mmake_index\u001b[0m\u001b[1;33m:\u001b[0m\u001b[1;33m\u001b[0m\u001b[1;33m\u001b[0m\u001b[0m\n",
      "\u001b[1;31mRuntimeError\u001b[0m: Cannot make index: index variable already present"
     ]
    }
   ],
   "source": [
    "# Create an entity from the payments dataframe\n",
    "# This does not yet have a unique index\n",
    "es = es.entity_from_dataframe(entity_id = 'payments', \n",
    "                              dataframe = payments,\n",
    "                              variable_types = {'missed': ft.variable_types.Categorical},\n",
    "                              make_index = True,\n",
    "                              index = 'payment_id',\n",
    "                              time_index = 'payment_date')"
   ]
  },
  {
   "cell_type": "code",
   "execution_count": 2,
   "metadata": {
    "colab": {
     "autoexec": {
      "startup": false,
      "wait_interval": 0
     }
    },
    "colab_type": "code",
    "id": "1EV_Zg7QSxTo"
   },
   "outputs": [
    {
     "output_type": "error",
     "ename": "NameError",
     "evalue": "name 'es' is not defined",
     "traceback": [
      "\u001b[1;31m---------------------------------------------------------------------------\u001b[0m",
      "\u001b[1;31mNameError\u001b[0m                                 Traceback (most recent call last)",
      "\u001b[1;32m<ipython-input-2-431d709e148a>\u001b[0m in \u001b[0;36m<module>\u001b[1;34m\u001b[0m\n\u001b[1;32m----> 1\u001b[1;33m \u001b[0mes\u001b[0m\u001b[1;33m\u001b[0m\u001b[1;33m\u001b[0m\u001b[0m\n\u001b[0m",
      "\u001b[1;31mNameError\u001b[0m: name 'es' is not defined"
     ]
    }
   ],
   "source": [
    "es"
   ]
  },
  {
   "cell_type": "markdown",
   "metadata": {
    "colab_type": "text",
    "id": "xmQwcxRQXQAf"
   },
   "source": [
    "All three entities have been successfully added to the `EntitySet`. We can access any of the entities using Python dictionary syntax."
   ]
  },
  {
   "cell_type": "code",
   "execution_count": 83,
   "metadata": {
    "colab": {
     "autoexec": {
      "startup": false,
      "wait_interval": 0
     }
    },
    "colab_type": "code",
    "id": "7rFib_OrXZiN"
   },
   "outputs": [
    {
     "output_type": "execute_result",
     "data": {
      "text/plain": "Entity: loans\n  Variables:\n    loan_id (dtype: index)\n    client_id (dtype: numeric)\n    loan_type (dtype: categorical)\n    loan_amount (dtype: numeric)\n    loan_start (dtype: datetime_time_index)\n    loan_end (dtype: datetime)\n    rate (dtype: numeric)\n    repaid (dtype: categorical)\n  Shape:\n    (Rows: 443, Columns: 8)"
     },
     "metadata": {},
     "execution_count": 83
    }
   ],
   "source": [
    "es['loans']"
   ]
  },
  {
   "cell_type": "markdown",
   "metadata": {
    "colab_type": "text",
    "id": "sZJ-HlanXduM"
   },
   "source": [
    "Featuretools correctly inferred each of the datatypes when we made this entity. We can also see that we overrode the type for the `repaid` feature, changing if from numeric to categorical. "
   ]
  },
  {
   "cell_type": "code",
   "execution_count": 84,
   "metadata": {},
   "outputs": [
    {
     "output_type": "execute_result",
     "data": {
      "text/plain": "Entity: payments\n  Variables:\n    payment_id (dtype: index)\n    loan_id (dtype: numeric)\n    payment_amount (dtype: numeric)\n    payment_date (dtype: datetime_time_index)\n    missed (dtype: categorical)\n  Shape:\n    (Rows: 3456, Columns: 5)"
     },
     "metadata": {},
     "execution_count": 84
    }
   ],
   "source": [
    "es['payments']"
   ]
  },
  {
   "cell_type": "markdown",
   "metadata": {
    "colab_type": "text",
    "id": "fhs4qoakVNyk"
   },
   "source": [
    "## Relationships\n",
    "\n",
    "After defining the entities (tables) in an `EntitySet`, we now need to tell featuretools [how they are related with a relationship](https://docs.featuretools.com/loading_data/using_entitysets.html#adding-a-relationship). The most intuitive way to think of relationships is with the parent to child analogy: a parent-to-child relationship is one-to-many because for each parent, there can be multiple children. The `client` dataframe is therefore the parent of the `loans` dataframe because while there is only one row for each client in the `client` dataframe, each client may have several previous loans covering multiple rows in the `loans` dataframe. Likewise, the `loans` dataframe is the parent of the `payments` dataframe because each loan will have multiple payments. \n",
    "\n",
    "These relationships are what allow us to group together datapoints using aggregation primitives and then create new features. As an example, we can group all of the previous loans associated with one client and find the average loan amount. We will discuss the features themselves more in a little bit, but for now let's define the relationships. \n",
    "\n",
    "To define relationships, we need to specify the parent variable and the child variable. This is the variable that links two entities together. In our example, the `client` and `loans` dataframes are linked together by the `client_id` column. Again, this is a parent to child relationship because for each `client_id` in the parent `client` dataframe, there may be multiple entries of the same `client_id` in the child `loans` dataframe. \n",
    "\n",
    "We codify relationships in the language of featuretools by specifying the parent variable and then the child variable. After creating a relationship, we add it to the `EntitySet`. "
   ]
  },
  {
   "cell_type": "code",
   "execution_count": 85,
   "metadata": {
    "colab": {
     "autoexec": {
      "startup": false,
      "wait_interval": 0
     }
    },
    "colab_type": "code",
    "id": "ChKZnFWTVJrh"
   },
   "outputs": [],
   "source": [
    "# Relationship between clients and previous loans\n",
    "r_client_previous = ft.Relationship(es['clients']['client_id'],\n",
    "                                    es['loans']['client_id'])\n",
    "\n",
    "# Add the relationship to the entity set\n",
    "es = es.add_relationship(r_client_previous)"
   ]
  },
  {
   "cell_type": "markdown",
   "metadata": {
    "colab_type": "text",
    "id": "DAPdMnwnZkHM"
   },
   "source": [
    "The relationship has now been stored in the entity set. The second relationship is between the `loans` and `payments`. These two entities are related by the `loan_id` variable."
   ]
  },
  {
   "cell_type": "code",
   "execution_count": 86,
   "metadata": {
    "colab": {
     "autoexec": {
      "startup": false,
      "wait_interval": 0
     }
    },
    "colab_type": "code",
    "id": "DrgSGOEDZe6N"
   },
   "outputs": [
    {
     "output_type": "execute_result",
     "data": {
      "text/plain": "Entityset: clients\n  Entities:\n    clients [Rows: 25, Columns: 6]\n    loans [Rows: 443, Columns: 8]\n    payments [Rows: 3456, Columns: 5]\n  Relationships:\n    loans.client_id -> clients.client_id\n    payments.loan_id -> loans.loan_id"
     },
     "metadata": {},
     "execution_count": 86
    }
   ],
   "source": [
    "# Relationship between previous loans and previous payments\n",
    "r_payments = ft.Relationship(es['loans']['loan_id'],\n",
    "                                      es['payments']['loan_id'])\n",
    "\n",
    "# Add the relationship to the entity set\n",
    "es = es.add_relationship(r_payments)\n",
    "\n",
    "es"
   ]
  },
  {
   "cell_type": "markdown",
   "metadata": {
    "colab_type": "text",
    "id": "oeFZMQVIaBV4"
   },
   "source": [
    "We now have our entities in an entityset along with the relationships between them. We can now start to making new features from all of the tables using stacks of feature primitives to form deep features. First, let's cover feature primitives.\n",
    "\n",
    "\n",
    "## Feature Primitives\n",
    "\n",
    "A [feature primitive](https://docs.featuretools.com/automated_feature_engineering/primitives.html) a at a very high-level is an operation applied to data to create a feature. These represent very simple calculations that can be stacked on top of each other to create complex features. Feature primitives fall into two categories:\n",
    "\n",
    "* __Aggregation__: function that groups together child datapoints for each parent and then calculates a statistic such as mean, min, max, or standard deviation. An example is calculating the maximum loan amount for each client. An aggregation works across multiple tables using relationships between tables.\n",
    "* __Transformation__: an operation applied to one or more columns in a single table. An example would be extracting the day from dates, or finding the difference between two columns in one table.\n",
    "\n",
    "Let's take a look at feature primitives in featuretools. We can view the list of primitives:"
   ]
  },
  {
   "cell_type": "code",
   "execution_count": 87,
   "metadata": {
    "colab": {
     "autoexec": {
      "startup": false,
      "wait_interval": 0
     }
    },
    "colab_type": "code",
    "id": "KNHzhu7WaALK"
   },
   "outputs": [
    {
     "output_type": "execute_result",
     "data": {
      "text/plain": "               name         type  dask_compatible  \\\n0  time_since_first  aggregation            False   \n1        num_unique  aggregation             True   \n2             first  aggregation            False   \n3               max  aggregation             True   \n4               any  aggregation             True   \n5               all  aggregation             True   \n6               sum  aggregation             True   \n7              skew  aggregation            False   \n8               std  aggregation             True   \n9          num_true  aggregation             True   \n\n                                                                       description  \n0               Calculates the time elapsed since the first datetime (in seconds).  \n1                 Determines the number of distinct values, ignoring `NaN` values.  \n2                                            Determines the first value in a list.  \n3                             Calculates the highest value, ignoring `NaN` values.  \n4                                     Determines if any value is 'True' in a list.  \n5                                   Calculates if all values are 'True' in a list.  \n6                                   Calculates the total addition, ignoring `NaN`.  \n7  Computes the extent to which a distribution differs from a normal distribution.  \n8              Computes the dispersion relative to the mean value, ignoring `NaN`.  \n9                                              Counts the number of `True` values.  ",
      "text/html": "<div>\n<style scoped>\n    .dataframe tbody tr th:only-of-type {\n        vertical-align: middle;\n    }\n\n    .dataframe tbody tr th {\n        vertical-align: top;\n    }\n\n    .dataframe thead th {\n        text-align: right;\n    }\n</style>\n<table border=\"1\" class=\"dataframe\">\n  <thead>\n    <tr style=\"text-align: right;\">\n      <th></th>\n      <th>name</th>\n      <th>type</th>\n      <th>dask_compatible</th>\n      <th>description</th>\n    </tr>\n  </thead>\n  <tbody>\n    <tr>\n      <th>0</th>\n      <td>time_since_first</td>\n      <td>aggregation</td>\n      <td>False</td>\n      <td>Calculates the time elapsed since the first datetime (in seconds).</td>\n    </tr>\n    <tr>\n      <th>1</th>\n      <td>num_unique</td>\n      <td>aggregation</td>\n      <td>True</td>\n      <td>Determines the number of distinct values, ignoring `NaN` values.</td>\n    </tr>\n    <tr>\n      <th>2</th>\n      <td>first</td>\n      <td>aggregation</td>\n      <td>False</td>\n      <td>Determines the first value in a list.</td>\n    </tr>\n    <tr>\n      <th>3</th>\n      <td>max</td>\n      <td>aggregation</td>\n      <td>True</td>\n      <td>Calculates the highest value, ignoring `NaN` values.</td>\n    </tr>\n    <tr>\n      <th>4</th>\n      <td>any</td>\n      <td>aggregation</td>\n      <td>True</td>\n      <td>Determines if any value is 'True' in a list.</td>\n    </tr>\n    <tr>\n      <th>5</th>\n      <td>all</td>\n      <td>aggregation</td>\n      <td>True</td>\n      <td>Calculates if all values are 'True' in a list.</td>\n    </tr>\n    <tr>\n      <th>6</th>\n      <td>sum</td>\n      <td>aggregation</td>\n      <td>True</td>\n      <td>Calculates the total addition, ignoring `NaN`.</td>\n    </tr>\n    <tr>\n      <th>7</th>\n      <td>skew</td>\n      <td>aggregation</td>\n      <td>False</td>\n      <td>Computes the extent to which a distribution differs from a normal distribution.</td>\n    </tr>\n    <tr>\n      <th>8</th>\n      <td>std</td>\n      <td>aggregation</td>\n      <td>True</td>\n      <td>Computes the dispersion relative to the mean value, ignoring `NaN`.</td>\n    </tr>\n    <tr>\n      <th>9</th>\n      <td>num_true</td>\n      <td>aggregation</td>\n      <td>True</td>\n      <td>Counts the number of `True` values.</td>\n    </tr>\n  </tbody>\n</table>\n</div>"
     },
     "metadata": {},
     "execution_count": 87
    }
   ],
   "source": [
    "primitives = ft.list_primitives()\n",
    "pd.options.display.max_colwidth = 100\n",
    "primitives[primitives['type'] == 'aggregation'].head(10)"
   ]
  },
  {
   "cell_type": "code",
   "execution_count": 88,
   "metadata": {
    "colab": {
     "autoexec": {
      "startup": false,
      "wait_interval": 0
     }
    },
    "colab_type": "code",
    "id": "-aDilk0Tdjml"
   },
   "outputs": [
    {
     "output_type": "execute_result",
     "data": {
      "text/plain": "                               name       type  dask_compatible  \\\n22                          cum_max  transform            False   \n23                     equal_scalar  transform             True   \n24                         absolute  transform             True   \n25                         latitude  transform            False   \n26            divide_numeric_scalar  transform             True   \n27                       is_weekend  transform             True   \n28  scalar_subtract_numeric_feature  transform             True   \n29                   num_characters  transform             True   \n30                        less_than  transform             True   \n31              greater_than_scalar  transform             True   \n\n                                                     description  \n22                            Calculates the cumulative maximum.  \n23   Determines if values in a list are equal to a given scalar.  \n24                      Computes the absolute value of a number.  \n25    Returns the first tuple value in a list of LatLong tuples.  \n26                  Divide each element in the list by a scalar.  \n27                      Determines if a date falls on a weekend.  \n28          Subtract each value in the list from a given scalar.  \n29              Calculates the number of characters in a string.  \n30  Determines if values in one list are less than another list.  \n31         Determines if values are greater than a given scalar.  ",
      "text/html": "<div>\n<style scoped>\n    .dataframe tbody tr th:only-of-type {\n        vertical-align: middle;\n    }\n\n    .dataframe tbody tr th {\n        vertical-align: top;\n    }\n\n    .dataframe thead th {\n        text-align: right;\n    }\n</style>\n<table border=\"1\" class=\"dataframe\">\n  <thead>\n    <tr style=\"text-align: right;\">\n      <th></th>\n      <th>name</th>\n      <th>type</th>\n      <th>dask_compatible</th>\n      <th>description</th>\n    </tr>\n  </thead>\n  <tbody>\n    <tr>\n      <th>22</th>\n      <td>cum_max</td>\n      <td>transform</td>\n      <td>False</td>\n      <td>Calculates the cumulative maximum.</td>\n    </tr>\n    <tr>\n      <th>23</th>\n      <td>equal_scalar</td>\n      <td>transform</td>\n      <td>True</td>\n      <td>Determines if values in a list are equal to a given scalar.</td>\n    </tr>\n    <tr>\n      <th>24</th>\n      <td>absolute</td>\n      <td>transform</td>\n      <td>True</td>\n      <td>Computes the absolute value of a number.</td>\n    </tr>\n    <tr>\n      <th>25</th>\n      <td>latitude</td>\n      <td>transform</td>\n      <td>False</td>\n      <td>Returns the first tuple value in a list of LatLong tuples.</td>\n    </tr>\n    <tr>\n      <th>26</th>\n      <td>divide_numeric_scalar</td>\n      <td>transform</td>\n      <td>True</td>\n      <td>Divide each element in the list by a scalar.</td>\n    </tr>\n    <tr>\n      <th>27</th>\n      <td>is_weekend</td>\n      <td>transform</td>\n      <td>True</td>\n      <td>Determines if a date falls on a weekend.</td>\n    </tr>\n    <tr>\n      <th>28</th>\n      <td>scalar_subtract_numeric_feature</td>\n      <td>transform</td>\n      <td>True</td>\n      <td>Subtract each value in the list from a given scalar.</td>\n    </tr>\n    <tr>\n      <th>29</th>\n      <td>num_characters</td>\n      <td>transform</td>\n      <td>True</td>\n      <td>Calculates the number of characters in a string.</td>\n    </tr>\n    <tr>\n      <th>30</th>\n      <td>less_than</td>\n      <td>transform</td>\n      <td>True</td>\n      <td>Determines if values in one list are less than another list.</td>\n    </tr>\n    <tr>\n      <th>31</th>\n      <td>greater_than_scalar</td>\n      <td>transform</td>\n      <td>True</td>\n      <td>Determines if values are greater than a given scalar.</td>\n    </tr>\n  </tbody>\n</table>\n</div>"
     },
     "metadata": {},
     "execution_count": 88
    }
   ],
   "source": [
    "primitives[primitives['type'] == 'transform'].head(10)"
   ]
  },
  {
   "cell_type": "markdown",
   "metadata": {
    "colab_type": "text",
    "id": "QWMofjqMdur6"
   },
   "source": [
    "If featuretools does not have enough primitives for us, we can [also make our own.](https://docs.featuretools.com/automated_feature_engineering/primitives.html#defining-custom-primitives) \n",
    "\n",
    "To get an idea of what a feature primitive actually does, let's try out a few on our data. Using primitives is surprisingly easy using the `ft.dfs` function (which stands for deep feature synthesis). In this function, we specify the entityset to use; the `target_entity`, which is the dataframe we want to make the features for (where the features end up); the `agg_primitives` which are the aggregation feature primitives; and the `trans_primitives` which are the transformation primitives to apply. \n",
    "\n",
    "In the following example, we are using the `EntitySet` we already created, the target entity is the `clients` dataframe because we want to make new features about each client, and then we specify a few aggregation and transformation primitives. "
   ]
  },
  {
   "cell_type": "code",
   "execution_count": 89,
   "metadata": {
    "colab": {
     "autoexec": {
      "startup": false,
      "wait_interval": 0
     }
    },
    "colab_type": "code",
    "id": "GVK71fusd8uF"
   },
   "outputs": [
    {
     "output_type": "error",
     "ename": "ValueError",
     "evalue": "('Unknown transform primitive years. ', 'Call ft.primitives.list_primitives() to get', ' a list of available primitives')",
     "traceback": [
      "\u001b[1;31m---------------------------------------------------------------------------\u001b[0m",
      "\u001b[1;31mValueError\u001b[0m                                Traceback (most recent call last)",
      "\u001b[1;32m<ipython-input-89-038fd82aa0e5>\u001b[0m in \u001b[0;36m<module>\u001b[1;34m\u001b[0m\n\u001b[0;32m      1\u001b[0m \u001b[1;31m# Create new features using specified primitives\u001b[0m\u001b[1;33m\u001b[0m\u001b[1;33m\u001b[0m\u001b[1;33m\u001b[0m\u001b[0m\n\u001b[1;32m----> 2\u001b[1;33m features, feature_names = ft.dfs(entityset = es, target_entity = 'clients', \n\u001b[0m\u001b[0;32m      3\u001b[0m                                  \u001b[0magg_primitives\u001b[0m \u001b[1;33m=\u001b[0m \u001b[1;33m[\u001b[0m\u001b[1;34m'mean'\u001b[0m\u001b[1;33m,\u001b[0m \u001b[1;34m'max'\u001b[0m\u001b[1;33m,\u001b[0m \u001b[1;34m'percent_true'\u001b[0m\u001b[1;33m,\u001b[0m \u001b[1;34m'last'\u001b[0m\u001b[1;33m]\u001b[0m\u001b[1;33m,\u001b[0m\u001b[1;33m\u001b[0m\u001b[1;33m\u001b[0m\u001b[0m\n\u001b[0;32m      4\u001b[0m                                  trans_primitives = ['years', 'month', 'subtract', 'divide'])\n",
      "\u001b[1;32mC:\\Python38\\lib\\site-packages\\featuretools\\utils\\entry_point.py\u001b[0m in \u001b[0;36mfunction_wrapper\u001b[1;34m(*args, **kwargs)\u001b[0m\n\u001b[0;32m     38\u001b[0m                     ep.on_error(error=e,\n\u001b[0;32m     39\u001b[0m                                 runtime=runtime)\n\u001b[1;32m---> 40\u001b[1;33m                 \u001b[1;32mraise\u001b[0m \u001b[0me\u001b[0m\u001b[1;33m\u001b[0m\u001b[1;33m\u001b[0m\u001b[0m\n\u001b[0m\u001b[0;32m     41\u001b[0m \u001b[1;33m\u001b[0m\u001b[0m\n\u001b[0;32m     42\u001b[0m             \u001b[1;31m# send return value\u001b[0m\u001b[1;33m\u001b[0m\u001b[1;33m\u001b[0m\u001b[1;33m\u001b[0m\u001b[0m\n",
      "\u001b[1;32mC:\\Python38\\lib\\site-packages\\featuretools\\utils\\entry_point.py\u001b[0m in \u001b[0;36mfunction_wrapper\u001b[1;34m(*args, **kwargs)\u001b[0m\n\u001b[0;32m     30\u001b[0m                 \u001b[1;31m# call function\u001b[0m\u001b[1;33m\u001b[0m\u001b[1;33m\u001b[0m\u001b[1;33m\u001b[0m\u001b[0m\n\u001b[0;32m     31\u001b[0m                 \u001b[0mstart\u001b[0m \u001b[1;33m=\u001b[0m \u001b[0mtime\u001b[0m\u001b[1;33m.\u001b[0m\u001b[0mtime\u001b[0m\u001b[1;33m(\u001b[0m\u001b[1;33m)\u001b[0m\u001b[1;33m\u001b[0m\u001b[1;33m\u001b[0m\u001b[0m\n\u001b[1;32m---> 32\u001b[1;33m                 \u001b[0mreturn_value\u001b[0m \u001b[1;33m=\u001b[0m \u001b[0mfunc\u001b[0m\u001b[1;33m(\u001b[0m\u001b[1;33m*\u001b[0m\u001b[0margs\u001b[0m\u001b[1;33m,\u001b[0m \u001b[1;33m**\u001b[0m\u001b[0mkwargs\u001b[0m\u001b[1;33m)\u001b[0m\u001b[1;33m\u001b[0m\u001b[1;33m\u001b[0m\u001b[0m\n\u001b[0m\u001b[0;32m     33\u001b[0m                 \u001b[0mruntime\u001b[0m \u001b[1;33m=\u001b[0m \u001b[0mtime\u001b[0m\u001b[1;33m.\u001b[0m\u001b[0mtime\u001b[0m\u001b[1;33m(\u001b[0m\u001b[1;33m)\u001b[0m \u001b[1;33m-\u001b[0m \u001b[0mstart\u001b[0m\u001b[1;33m\u001b[0m\u001b[1;33m\u001b[0m\u001b[0m\n\u001b[0;32m     34\u001b[0m             \u001b[1;32mexcept\u001b[0m \u001b[0mException\u001b[0m \u001b[1;32mas\u001b[0m \u001b[0me\u001b[0m\u001b[1;33m:\u001b[0m\u001b[1;33m\u001b[0m\u001b[1;33m\u001b[0m\u001b[0m\n",
      "\u001b[1;32mC:\\Python38\\lib\\site-packages\\featuretools\\synthesis\\dfs.py\u001b[0m in \u001b[0;36mdfs\u001b[1;34m(entities, relationships, entityset, target_entity, cutoff_time, instance_ids, agg_primitives, trans_primitives, groupby_trans_primitives, allowed_paths, max_depth, ignore_entities, ignore_variables, primitive_options, seed_features, drop_contains, drop_exact, where_primitives, max_features, cutoff_time_in_index, save_progress, features_only, training_window, approximate, chunk_size, n_jobs, dask_kwargs, verbose, return_variable_types, progress_callback, include_cutoff_time)\u001b[0m\n\u001b[0;32m    235\u001b[0m         \u001b[0mentityset\u001b[0m \u001b[1;33m=\u001b[0m \u001b[0mEntitySet\u001b[0m\u001b[1;33m(\u001b[0m\u001b[1;34m\"dfs\"\u001b[0m\u001b[1;33m,\u001b[0m \u001b[0mentities\u001b[0m\u001b[1;33m,\u001b[0m \u001b[0mrelationships\u001b[0m\u001b[1;33m)\u001b[0m\u001b[1;33m\u001b[0m\u001b[1;33m\u001b[0m\u001b[0m\n\u001b[0;32m    236\u001b[0m \u001b[1;33m\u001b[0m\u001b[0m\n\u001b[1;32m--> 237\u001b[1;33m     dfs_object = DeepFeatureSynthesis(target_entity, entityset,\n\u001b[0m\u001b[0;32m    238\u001b[0m                                       \u001b[0magg_primitives\u001b[0m\u001b[1;33m=\u001b[0m\u001b[0magg_primitives\u001b[0m\u001b[1;33m,\u001b[0m\u001b[1;33m\u001b[0m\u001b[1;33m\u001b[0m\u001b[0m\n\u001b[0;32m    239\u001b[0m                                       \u001b[0mtrans_primitives\u001b[0m\u001b[1;33m=\u001b[0m\u001b[0mtrans_primitives\u001b[0m\u001b[1;33m,\u001b[0m\u001b[1;33m\u001b[0m\u001b[1;33m\u001b[0m\u001b[0m\n",
      "\u001b[1;32mC:\\Python38\\lib\\site-packages\\featuretools\\synthesis\\deep_feature_synthesis.py\u001b[0m in \u001b[0;36m__init__\u001b[1;34m(self, target_entity_id, entityset, agg_primitives, trans_primitives, where_primitives, groupby_trans_primitives, max_depth, max_features, allowed_paths, ignore_entities, ignore_variables, primitive_options, seed_features, drop_contains, drop_exact, where_stacking_limit)\u001b[0m\n\u001b[0;32m    204\u001b[0m         \u001b[0mself\u001b[0m\u001b[1;33m.\u001b[0m\u001b[0mtrans_primitives\u001b[0m \u001b[1;33m=\u001b[0m \u001b[1;33m[\u001b[0m\u001b[1;33m]\u001b[0m\u001b[1;33m\u001b[0m\u001b[1;33m\u001b[0m\u001b[0m\n\u001b[0;32m    205\u001b[0m         \u001b[1;32mfor\u001b[0m \u001b[0mt\u001b[0m \u001b[1;32min\u001b[0m \u001b[0mtrans_primitives\u001b[0m\u001b[1;33m:\u001b[0m\u001b[1;33m\u001b[0m\u001b[1;33m\u001b[0m\u001b[0m\n\u001b[1;32m--> 206\u001b[1;33m             \u001b[0mt\u001b[0m \u001b[1;33m=\u001b[0m \u001b[0mcheck_trans_primitive\u001b[0m\u001b[1;33m(\u001b[0m\u001b[0mt\u001b[0m\u001b[1;33m)\u001b[0m\u001b[1;33m\u001b[0m\u001b[1;33m\u001b[0m\u001b[0m\n\u001b[0m\u001b[0;32m    207\u001b[0m             \u001b[0mself\u001b[0m\u001b[1;33m.\u001b[0m\u001b[0mtrans_primitives\u001b[0m\u001b[1;33m.\u001b[0m\u001b[0mappend\u001b[0m\u001b[1;33m(\u001b[0m\u001b[0mt\u001b[0m\u001b[1;33m)\u001b[0m\u001b[1;33m\u001b[0m\u001b[1;33m\u001b[0m\u001b[0m\n\u001b[0;32m    208\u001b[0m \u001b[1;33m\u001b[0m\u001b[0m\n",
      "\u001b[1;32mC:\\Python38\\lib\\site-packages\\featuretools\\synthesis\\deep_feature_synthesis.py\u001b[0m in \u001b[0;36mcheck_trans_primitive\u001b[1;34m(primitive)\u001b[0m\n\u001b[0;32m    896\u001b[0m     \u001b[1;32mif\u001b[0m \u001b[0misinstance\u001b[0m\u001b[1;33m(\u001b[0m\u001b[0mprimitive\u001b[0m\u001b[1;33m,\u001b[0m \u001b[0mstr\u001b[0m\u001b[1;33m)\u001b[0m\u001b[1;33m:\u001b[0m\u001b[1;33m\u001b[0m\u001b[1;33m\u001b[0m\u001b[0m\n\u001b[0;32m    897\u001b[0m         \u001b[1;32mif\u001b[0m \u001b[0mprimitive\u001b[0m\u001b[1;33m.\u001b[0m\u001b[0mlower\u001b[0m\u001b[1;33m(\u001b[0m\u001b[1;33m)\u001b[0m \u001b[1;32mnot\u001b[0m \u001b[1;32min\u001b[0m \u001b[0mtrans_prim_dict\u001b[0m\u001b[1;33m:\u001b[0m\u001b[1;33m\u001b[0m\u001b[1;33m\u001b[0m\u001b[0m\n\u001b[1;32m--> 898\u001b[1;33m             raise ValueError(\"Unknown transform primitive {}. \".format(primitive),\n\u001b[0m\u001b[0;32m    899\u001b[0m                              \u001b[1;34m\"Call ft.primitives.list_primitives() to get\"\u001b[0m\u001b[1;33m,\u001b[0m\u001b[1;33m\u001b[0m\u001b[1;33m\u001b[0m\u001b[0m\n\u001b[0;32m    900\u001b[0m                              \" a list of available primitives\")\n",
      "\u001b[1;31mValueError\u001b[0m: ('Unknown transform primitive years. ', 'Call ft.primitives.list_primitives() to get', ' a list of available primitives')"
     ]
    }
   ],
   "source": [
    "# Create new features using specified primitives\n",
    "features, feature_names = ft.dfs(entityset = es, target_entity = 'clients', \n",
    "                                 agg_primitives = ['mean', 'max', 'percent_true', 'last'],\n",
    "                                 trans_primitives = ['years', 'month', 'subtract', 'divide'])"
   ]
  },
  {
   "cell_type": "code",
   "execution_count": 90,
   "metadata": {},
   "outputs": [
    {
     "output_type": "execute_result",
     "data": {
      "text/plain": "           MONTH(joined)\nclient_id               \n42320                  4\n39384                  6\n26945                 11\n41472                 11\n46180                 11",
      "text/html": "<div>\n<style scoped>\n    .dataframe tbody tr th:only-of-type {\n        vertical-align: middle;\n    }\n\n    .dataframe tbody tr th {\n        vertical-align: top;\n    }\n\n    .dataframe thead th {\n        text-align: right;\n    }\n</style>\n<table border=\"1\" class=\"dataframe\">\n  <thead>\n    <tr style=\"text-align: right;\">\n      <th></th>\n      <th>MONTH(joined)</th>\n    </tr>\n    <tr>\n      <th>client_id</th>\n      <th></th>\n    </tr>\n  </thead>\n  <tbody>\n    <tr>\n      <th>42320</th>\n      <td>4</td>\n    </tr>\n    <tr>\n      <th>39384</th>\n      <td>6</td>\n    </tr>\n    <tr>\n      <th>26945</th>\n      <td>11</td>\n    </tr>\n    <tr>\n      <th>41472</th>\n      <td>11</td>\n    </tr>\n    <tr>\n      <th>46180</th>\n      <td>11</td>\n    </tr>\n  </tbody>\n</table>\n</div>"
     },
     "metadata": {},
     "execution_count": 90
    }
   ],
   "source": [
    "pd.DataFrame(features['MONTH(joined)'].head())"
   ]
  },
  {
   "cell_type": "code",
   "execution_count": 91,
   "metadata": {},
   "outputs": [
    {
     "output_type": "execute_result",
     "data": {
      "text/plain": "           MEAN(payments.payment_amount)\nclient_id                               \n42320                        1021.483333\n39384                        1193.630137\n26945                        1109.473214\n41472                        1129.076190\n46180                        1186.550336",
      "text/html": "<div>\n<style scoped>\n    .dataframe tbody tr th:only-of-type {\n        vertical-align: middle;\n    }\n\n    .dataframe tbody tr th {\n        vertical-align: top;\n    }\n\n    .dataframe thead th {\n        text-align: right;\n    }\n</style>\n<table border=\"1\" class=\"dataframe\">\n  <thead>\n    <tr style=\"text-align: right;\">\n      <th></th>\n      <th>MEAN(payments.payment_amount)</th>\n    </tr>\n    <tr>\n      <th>client_id</th>\n      <th></th>\n    </tr>\n  </thead>\n  <tbody>\n    <tr>\n      <th>42320</th>\n      <td>1021.483333</td>\n    </tr>\n    <tr>\n      <th>39384</th>\n      <td>1193.630137</td>\n    </tr>\n    <tr>\n      <th>26945</th>\n      <td>1109.473214</td>\n    </tr>\n    <tr>\n      <th>41472</th>\n      <td>1129.076190</td>\n    </tr>\n    <tr>\n      <th>46180</th>\n      <td>1186.550336</td>\n    </tr>\n  </tbody>\n</table>\n</div>"
     },
     "metadata": {},
     "execution_count": 91
    }
   ],
   "source": [
    "pd.DataFrame(features['MEAN(payments.payment_amount)'].head())"
   ]
  },
  {
   "cell_type": "code",
   "execution_count": 92,
   "metadata": {
    "colab": {
     "autoexec": {
      "startup": false,
      "wait_interval": 0
     }
    },
    "colab_type": "code",
    "id": "2EFpoAJYezfD"
   },
   "outputs": [
    {
     "output_type": "execute_result",
     "data": {
      "text/plain": "           income  credit_score  join_month  log_income  \\\nclient_id                                                 \n42320      229481           563           4   12.343576   \n39384      191204           617           6   12.161096   \n26945      214516           806          11   12.276140   \n41472      152214           638          11   11.933043   \n46180       43851           562          11   10.688553   \n\n           SUM(loans.loan_amount)  SUM(loans.rate)  STD(loans.loan_amount)  \\\nclient_id                                                                    \n42320                      105931            36.86             4165.826885   \n39384                      149444            67.23             3964.286840   \n26945                      106889            42.83             4543.621769   \n41472                      120173            63.70             4257.668536   \n46180                      154017            70.05             3835.726436   \n\n           STD(loans.rate)  MAX(loans.loan_amount)  MAX(loans.rate)  ...  \\\nclient_id                                                            ...   \n42320             1.984938                   13887             6.74  ...   \n39384             2.629599                   14654             9.23  ...   \n26945             1.619717                   14593             5.65  ...   \n41472             3.198366                   13657             9.82  ...   \n46180             2.550263                   14081             9.26  ...   \n\n           MIN(payments.loans.loan_amount)  MIN(payments.loans.rate)  \\\nclient_id                                                              \n42320                                 1070                      0.38   \n39384                                 1770                      0.43   \n26945                                  653                      0.13   \n41472                                  986                      0.01   \n46180                                 1607                      0.57   \n\n           MEAN(payments.loans.loan_amount)  MEAN(payments.loans.rate)  \\\nclient_id                                                                \n42320                           7028.058333                   2.523667   \n39384                           7957.130137                   3.418630   \n26945                           6884.401786                   2.947589   \n41472                           7473.628571                   4.146286   \n46180                           7668.899329                   3.882081   \n\n           NUM_UNIQUE(payments.loans.client_id)  \\\nclient_id                                         \n42320                                         1   \n39384                                         1   \n26945                                         1   \n41472                                         1   \n46180                                         1   \n\n           NUM_UNIQUE(payments.loans.loan_type)  \\\nclient_id                                         \n42320                                         4   \n39384                                         4   \n26945                                         4   \n41472                                         4   \n46180                                         4   \n\n           NUM_UNIQUE(payments.loans.repaid)  MODE(payments.loans.client_id)  \\\nclient_id                                                                      \n42320                                      2                           42320   \n39384                                      2                           39384   \n26945                                      2                           26945   \n41472                                      2                           41472   \n46180                                      2                           46180   \n\n           MODE(payments.loans.loan_type)  MODE(payments.loans.repaid)  \nclient_id                                                               \n42320                                home                            1  \n39384                                cash                            1  \n26945                              credit                            0  \n41472                               other                            1  \n46180                               other                            0  \n\n[5 rows x 112 columns]",
      "text/html": "<div>\n<style scoped>\n    .dataframe tbody tr th:only-of-type {\n        vertical-align: middle;\n    }\n\n    .dataframe tbody tr th {\n        vertical-align: top;\n    }\n\n    .dataframe thead th {\n        text-align: right;\n    }\n</style>\n<table border=\"1\" class=\"dataframe\">\n  <thead>\n    <tr style=\"text-align: right;\">\n      <th></th>\n      <th>income</th>\n      <th>credit_score</th>\n      <th>join_month</th>\n      <th>log_income</th>\n      <th>SUM(loans.loan_amount)</th>\n      <th>SUM(loans.rate)</th>\n      <th>STD(loans.loan_amount)</th>\n      <th>STD(loans.rate)</th>\n      <th>MAX(loans.loan_amount)</th>\n      <th>MAX(loans.rate)</th>\n      <th>...</th>\n      <th>MIN(payments.loans.loan_amount)</th>\n      <th>MIN(payments.loans.rate)</th>\n      <th>MEAN(payments.loans.loan_amount)</th>\n      <th>MEAN(payments.loans.rate)</th>\n      <th>NUM_UNIQUE(payments.loans.client_id)</th>\n      <th>NUM_UNIQUE(payments.loans.loan_type)</th>\n      <th>NUM_UNIQUE(payments.loans.repaid)</th>\n      <th>MODE(payments.loans.client_id)</th>\n      <th>MODE(payments.loans.loan_type)</th>\n      <th>MODE(payments.loans.repaid)</th>\n    </tr>\n    <tr>\n      <th>client_id</th>\n      <th></th>\n      <th></th>\n      <th></th>\n      <th></th>\n      <th></th>\n      <th></th>\n      <th></th>\n      <th></th>\n      <th></th>\n      <th></th>\n      <th></th>\n      <th></th>\n      <th></th>\n      <th></th>\n      <th></th>\n      <th></th>\n      <th></th>\n      <th></th>\n      <th></th>\n      <th></th>\n      <th></th>\n    </tr>\n  </thead>\n  <tbody>\n    <tr>\n      <th>42320</th>\n      <td>229481</td>\n      <td>563</td>\n      <td>4</td>\n      <td>12.343576</td>\n      <td>105931</td>\n      <td>36.86</td>\n      <td>4165.826885</td>\n      <td>1.984938</td>\n      <td>13887</td>\n      <td>6.74</td>\n      <td>...</td>\n      <td>1070</td>\n      <td>0.38</td>\n      <td>7028.058333</td>\n      <td>2.523667</td>\n      <td>1</td>\n      <td>4</td>\n      <td>2</td>\n      <td>42320</td>\n      <td>home</td>\n      <td>1</td>\n    </tr>\n    <tr>\n      <th>39384</th>\n      <td>191204</td>\n      <td>617</td>\n      <td>6</td>\n      <td>12.161096</td>\n      <td>149444</td>\n      <td>67.23</td>\n      <td>3964.286840</td>\n      <td>2.629599</td>\n      <td>14654</td>\n      <td>9.23</td>\n      <td>...</td>\n      <td>1770</td>\n      <td>0.43</td>\n      <td>7957.130137</td>\n      <td>3.418630</td>\n      <td>1</td>\n      <td>4</td>\n      <td>2</td>\n      <td>39384</td>\n      <td>cash</td>\n      <td>1</td>\n    </tr>\n    <tr>\n      <th>26945</th>\n      <td>214516</td>\n      <td>806</td>\n      <td>11</td>\n      <td>12.276140</td>\n      <td>106889</td>\n      <td>42.83</td>\n      <td>4543.621769</td>\n      <td>1.619717</td>\n      <td>14593</td>\n      <td>5.65</td>\n      <td>...</td>\n      <td>653</td>\n      <td>0.13</td>\n      <td>6884.401786</td>\n      <td>2.947589</td>\n      <td>1</td>\n      <td>4</td>\n      <td>2</td>\n      <td>26945</td>\n      <td>credit</td>\n      <td>0</td>\n    </tr>\n    <tr>\n      <th>41472</th>\n      <td>152214</td>\n      <td>638</td>\n      <td>11</td>\n      <td>11.933043</td>\n      <td>120173</td>\n      <td>63.70</td>\n      <td>4257.668536</td>\n      <td>3.198366</td>\n      <td>13657</td>\n      <td>9.82</td>\n      <td>...</td>\n      <td>986</td>\n      <td>0.01</td>\n      <td>7473.628571</td>\n      <td>4.146286</td>\n      <td>1</td>\n      <td>4</td>\n      <td>2</td>\n      <td>41472</td>\n      <td>other</td>\n      <td>1</td>\n    </tr>\n    <tr>\n      <th>46180</th>\n      <td>43851</td>\n      <td>562</td>\n      <td>11</td>\n      <td>10.688553</td>\n      <td>154017</td>\n      <td>70.05</td>\n      <td>3835.726436</td>\n      <td>2.550263</td>\n      <td>14081</td>\n      <td>9.26</td>\n      <td>...</td>\n      <td>1607</td>\n      <td>0.57</td>\n      <td>7668.899329</td>\n      <td>3.882081</td>\n      <td>1</td>\n      <td>4</td>\n      <td>2</td>\n      <td>46180</td>\n      <td>other</td>\n      <td>0</td>\n    </tr>\n  </tbody>\n</table>\n<p>5 rows × 112 columns</p>\n</div>"
     },
     "metadata": {},
     "execution_count": 92
    }
   ],
   "source": [
    "features.head()"
   ]
  },
  {
   "cell_type": "markdown",
   "metadata": {
    "colab_type": "text",
    "id": "C0kKwJHQfP9J"
   },
   "source": [
    "Already we can see how useful featuretools is: it performed the same operations we did manually but also many more in addition. Examining the names of the features in the dataframe brings us to the final piece of the puzzle: deep features.\n",
    "\n",
    "## Deep Feature Synthesis\n",
    "\n",
    "While feature primitives are useful by themselves, the main benefit of using featuretools arises when we stack primitives to get deep features. The depth of a feature is simply the number of primitives required to make a feature. So, a feature that relies on a single aggregation would be a deep feature with a depth of 1, a feature that stacks two primitives would have a depth of 2 and so on. The idea itself is lot simpler than the name \"deep feature synthesis\" implies. (I think the authors were trying to ride the way of deep neural network hype when they named the method!) To read more about deep feature synthesis, check out [the documentation](https://docs.featuretools.com/automated_feature_engineering/afe.html) or the [original paper by Max Kanter et al](http://www.jmaxkanter.com/static/papers/DSAA_DSM_2015.pdf). \n",
    "\n",
    "Already in the dataframe we made by specifying the primitives manually we can see the idea of feature depth. For instance, the MEAN(loans.loan_amount) feature has a depth of 1 because it is made by applying a single aggregation primitive. This feature represents the average size of a client's previous loans."
   ]
  },
  {
   "cell_type": "code",
   "execution_count": 93,
   "metadata": {
    "colab": {
     "autoexec": {
      "startup": false,
      "wait_interval": 0
     }
    },
    "colab_type": "code",
    "id": "HBHqFlqpgKD6"
   },
   "outputs": [
    {
     "output_type": "execute_result",
     "data": {
      "text/plain": "           MEAN(loans.loan_amount)\nclient_id                         \n42320                  7062.066667\n39384                  7865.473684\n26945                  7125.933333\n41472                  7510.812500\n46180                  7700.850000\n46109                  8951.600000\n32885                  9920.400000\n29841                  9813.000000\n38537                  8986.352941\n35214                  7173.555556",
      "text/html": "<div>\n<style scoped>\n    .dataframe tbody tr th:only-of-type {\n        vertical-align: middle;\n    }\n\n    .dataframe tbody tr th {\n        vertical-align: top;\n    }\n\n    .dataframe thead th {\n        text-align: right;\n    }\n</style>\n<table border=\"1\" class=\"dataframe\">\n  <thead>\n    <tr style=\"text-align: right;\">\n      <th></th>\n      <th>MEAN(loans.loan_amount)</th>\n    </tr>\n    <tr>\n      <th>client_id</th>\n      <th></th>\n    </tr>\n  </thead>\n  <tbody>\n    <tr>\n      <th>42320</th>\n      <td>7062.066667</td>\n    </tr>\n    <tr>\n      <th>39384</th>\n      <td>7865.473684</td>\n    </tr>\n    <tr>\n      <th>26945</th>\n      <td>7125.933333</td>\n    </tr>\n    <tr>\n      <th>41472</th>\n      <td>7510.812500</td>\n    </tr>\n    <tr>\n      <th>46180</th>\n      <td>7700.850000</td>\n    </tr>\n    <tr>\n      <th>46109</th>\n      <td>8951.600000</td>\n    </tr>\n    <tr>\n      <th>32885</th>\n      <td>9920.400000</td>\n    </tr>\n    <tr>\n      <th>29841</th>\n      <td>9813.000000</td>\n    </tr>\n    <tr>\n      <th>38537</th>\n      <td>8986.352941</td>\n    </tr>\n    <tr>\n      <th>35214</th>\n      <td>7173.555556</td>\n    </tr>\n  </tbody>\n</table>\n</div>"
     },
     "metadata": {},
     "execution_count": 93
    }
   ],
   "source": [
    "# Show a feature with a depth of 1\n",
    "pd.DataFrame(features['MEAN(loans.loan_amount)'].head(10))"
   ]
  },
  {
   "cell_type": "markdown",
   "metadata": {
    "colab_type": "text",
    "id": "b3FttmpFdDoo"
   },
   "source": [
    "As well scroll through the features, we see a number of features with a depth of 2. For example, the LAST(loans.(MEAN(payments.payment_amount))) has depth = 2 because it is made by stacking two feature primitives, first an aggregation and then a transformation. This feature represents the average payment amount for the last (most recent) loan for each client."
   ]
  },
  {
   "cell_type": "code",
   "execution_count": 94,
   "metadata": {
    "colab": {
     "autoexec": {
      "startup": false,
      "wait_interval": 0
     }
    },
    "colab_type": "code",
    "id": "xStafjwZgneQ"
   },
   "outputs": [
    {
     "output_type": "error",
     "ename": "KeyError",
     "evalue": "'LAST(loans.MEAN(payments.payment_amount))'",
     "traceback": [
      "\u001b[1;31m---------------------------------------------------------------------------\u001b[0m",
      "\u001b[1;31mKeyError\u001b[0m                                  Traceback (most recent call last)",
      "\u001b[1;32mC:\\Python38\\lib\\site-packages\\pandas\\core\\indexes\\base.py\u001b[0m in \u001b[0;36mget_loc\u001b[1;34m(self, key, method, tolerance)\u001b[0m\n\u001b[0;32m   2645\u001b[0m             \u001b[1;32mtry\u001b[0m\u001b[1;33m:\u001b[0m\u001b[1;33m\u001b[0m\u001b[1;33m\u001b[0m\u001b[0m\n\u001b[1;32m-> 2646\u001b[1;33m                 \u001b[1;32mreturn\u001b[0m \u001b[0mself\u001b[0m\u001b[1;33m.\u001b[0m\u001b[0m_engine\u001b[0m\u001b[1;33m.\u001b[0m\u001b[0mget_loc\u001b[0m\u001b[1;33m(\u001b[0m\u001b[0mkey\u001b[0m\u001b[1;33m)\u001b[0m\u001b[1;33m\u001b[0m\u001b[1;33m\u001b[0m\u001b[0m\n\u001b[0m\u001b[0;32m   2647\u001b[0m             \u001b[1;32mexcept\u001b[0m \u001b[0mKeyError\u001b[0m\u001b[1;33m:\u001b[0m\u001b[1;33m\u001b[0m\u001b[1;33m\u001b[0m\u001b[0m\n",
      "\u001b[1;32mpandas\\_libs\\index.pyx\u001b[0m in \u001b[0;36mpandas._libs.index.IndexEngine.get_loc\u001b[1;34m()\u001b[0m\n",
      "\u001b[1;32mpandas\\_libs\\index.pyx\u001b[0m in \u001b[0;36mpandas._libs.index.IndexEngine.get_loc\u001b[1;34m()\u001b[0m\n",
      "\u001b[1;32mpandas\\_libs\\hashtable_class_helper.pxi\u001b[0m in \u001b[0;36mpandas._libs.hashtable.PyObjectHashTable.get_item\u001b[1;34m()\u001b[0m\n",
      "\u001b[1;32mpandas\\_libs\\hashtable_class_helper.pxi\u001b[0m in \u001b[0;36mpandas._libs.hashtable.PyObjectHashTable.get_item\u001b[1;34m()\u001b[0m\n",
      "\u001b[1;31mKeyError\u001b[0m: 'LAST(loans.MEAN(payments.payment_amount))'",
      "\nDuring handling of the above exception, another exception occurred:\n",
      "\u001b[1;31mKeyError\u001b[0m                                  Traceback (most recent call last)",
      "\u001b[1;32m<ipython-input-94-bb6d7c19964c>\u001b[0m in \u001b[0;36m<module>\u001b[1;34m\u001b[0m\n\u001b[0;32m      1\u001b[0m \u001b[1;31m# Show a feature with a depth of 2\u001b[0m\u001b[1;33m\u001b[0m\u001b[1;33m\u001b[0m\u001b[1;33m\u001b[0m\u001b[0m\n\u001b[1;32m----> 2\u001b[1;33m \u001b[0mpd\u001b[0m\u001b[1;33m.\u001b[0m\u001b[0mDataFrame\u001b[0m\u001b[1;33m(\u001b[0m\u001b[0mfeatures\u001b[0m\u001b[1;33m[\u001b[0m\u001b[1;34m'LAST(loans.MEAN(payments.payment_amount))'\u001b[0m\u001b[1;33m]\u001b[0m\u001b[1;33m.\u001b[0m\u001b[0mhead\u001b[0m\u001b[1;33m(\u001b[0m\u001b[1;36m10\u001b[0m\u001b[1;33m)\u001b[0m\u001b[1;33m)\u001b[0m\u001b[1;33m\u001b[0m\u001b[1;33m\u001b[0m\u001b[0m\n\u001b[0m",
      "\u001b[1;32mC:\\Python38\\lib\\site-packages\\pandas\\core\\frame.py\u001b[0m in \u001b[0;36m__getitem__\u001b[1;34m(self, key)\u001b[0m\n\u001b[0;32m   2798\u001b[0m             \u001b[1;32mif\u001b[0m \u001b[0mself\u001b[0m\u001b[1;33m.\u001b[0m\u001b[0mcolumns\u001b[0m\u001b[1;33m.\u001b[0m\u001b[0mnlevels\u001b[0m \u001b[1;33m>\u001b[0m \u001b[1;36m1\u001b[0m\u001b[1;33m:\u001b[0m\u001b[1;33m\u001b[0m\u001b[1;33m\u001b[0m\u001b[0m\n\u001b[0;32m   2799\u001b[0m                 \u001b[1;32mreturn\u001b[0m \u001b[0mself\u001b[0m\u001b[1;33m.\u001b[0m\u001b[0m_getitem_multilevel\u001b[0m\u001b[1;33m(\u001b[0m\u001b[0mkey\u001b[0m\u001b[1;33m)\u001b[0m\u001b[1;33m\u001b[0m\u001b[1;33m\u001b[0m\u001b[0m\n\u001b[1;32m-> 2800\u001b[1;33m             \u001b[0mindexer\u001b[0m \u001b[1;33m=\u001b[0m \u001b[0mself\u001b[0m\u001b[1;33m.\u001b[0m\u001b[0mcolumns\u001b[0m\u001b[1;33m.\u001b[0m\u001b[0mget_loc\u001b[0m\u001b[1;33m(\u001b[0m\u001b[0mkey\u001b[0m\u001b[1;33m)\u001b[0m\u001b[1;33m\u001b[0m\u001b[1;33m\u001b[0m\u001b[0m\n\u001b[0m\u001b[0;32m   2801\u001b[0m             \u001b[1;32mif\u001b[0m \u001b[0mis_integer\u001b[0m\u001b[1;33m(\u001b[0m\u001b[0mindexer\u001b[0m\u001b[1;33m)\u001b[0m\u001b[1;33m:\u001b[0m\u001b[1;33m\u001b[0m\u001b[1;33m\u001b[0m\u001b[0m\n\u001b[0;32m   2802\u001b[0m                 \u001b[0mindexer\u001b[0m \u001b[1;33m=\u001b[0m \u001b[1;33m[\u001b[0m\u001b[0mindexer\u001b[0m\u001b[1;33m]\u001b[0m\u001b[1;33m\u001b[0m\u001b[1;33m\u001b[0m\u001b[0m\n",
      "\u001b[1;32mC:\\Python38\\lib\\site-packages\\pandas\\core\\indexes\\base.py\u001b[0m in \u001b[0;36mget_loc\u001b[1;34m(self, key, method, tolerance)\u001b[0m\n\u001b[0;32m   2646\u001b[0m                 \u001b[1;32mreturn\u001b[0m \u001b[0mself\u001b[0m\u001b[1;33m.\u001b[0m\u001b[0m_engine\u001b[0m\u001b[1;33m.\u001b[0m\u001b[0mget_loc\u001b[0m\u001b[1;33m(\u001b[0m\u001b[0mkey\u001b[0m\u001b[1;33m)\u001b[0m\u001b[1;33m\u001b[0m\u001b[1;33m\u001b[0m\u001b[0m\n\u001b[0;32m   2647\u001b[0m             \u001b[1;32mexcept\u001b[0m \u001b[0mKeyError\u001b[0m\u001b[1;33m:\u001b[0m\u001b[1;33m\u001b[0m\u001b[1;33m\u001b[0m\u001b[0m\n\u001b[1;32m-> 2648\u001b[1;33m                 \u001b[1;32mreturn\u001b[0m \u001b[0mself\u001b[0m\u001b[1;33m.\u001b[0m\u001b[0m_engine\u001b[0m\u001b[1;33m.\u001b[0m\u001b[0mget_loc\u001b[0m\u001b[1;33m(\u001b[0m\u001b[0mself\u001b[0m\u001b[1;33m.\u001b[0m\u001b[0m_maybe_cast_indexer\u001b[0m\u001b[1;33m(\u001b[0m\u001b[0mkey\u001b[0m\u001b[1;33m)\u001b[0m\u001b[1;33m)\u001b[0m\u001b[1;33m\u001b[0m\u001b[1;33m\u001b[0m\u001b[0m\n\u001b[0m\u001b[0;32m   2649\u001b[0m         \u001b[0mindexer\u001b[0m \u001b[1;33m=\u001b[0m \u001b[0mself\u001b[0m\u001b[1;33m.\u001b[0m\u001b[0mget_indexer\u001b[0m\u001b[1;33m(\u001b[0m\u001b[1;33m[\u001b[0m\u001b[0mkey\u001b[0m\u001b[1;33m]\u001b[0m\u001b[1;33m,\u001b[0m \u001b[0mmethod\u001b[0m\u001b[1;33m=\u001b[0m\u001b[0mmethod\u001b[0m\u001b[1;33m,\u001b[0m \u001b[0mtolerance\u001b[0m\u001b[1;33m=\u001b[0m\u001b[0mtolerance\u001b[0m\u001b[1;33m)\u001b[0m\u001b[1;33m\u001b[0m\u001b[1;33m\u001b[0m\u001b[0m\n\u001b[0;32m   2650\u001b[0m         \u001b[1;32mif\u001b[0m \u001b[0mindexer\u001b[0m\u001b[1;33m.\u001b[0m\u001b[0mndim\u001b[0m \u001b[1;33m>\u001b[0m \u001b[1;36m1\u001b[0m \u001b[1;32mor\u001b[0m \u001b[0mindexer\u001b[0m\u001b[1;33m.\u001b[0m\u001b[0msize\u001b[0m \u001b[1;33m>\u001b[0m \u001b[1;36m1\u001b[0m\u001b[1;33m:\u001b[0m\u001b[1;33m\u001b[0m\u001b[1;33m\u001b[0m\u001b[0m\n",
      "\u001b[1;32mpandas\\_libs\\index.pyx\u001b[0m in \u001b[0;36mpandas._libs.index.IndexEngine.get_loc\u001b[1;34m()\u001b[0m\n",
      "\u001b[1;32mpandas\\_libs\\index.pyx\u001b[0m in \u001b[0;36mpandas._libs.index.IndexEngine.get_loc\u001b[1;34m()\u001b[0m\n",
      "\u001b[1;32mpandas\\_libs\\hashtable_class_helper.pxi\u001b[0m in \u001b[0;36mpandas._libs.hashtable.PyObjectHashTable.get_item\u001b[1;34m()\u001b[0m\n",
      "\u001b[1;32mpandas\\_libs\\hashtable_class_helper.pxi\u001b[0m in \u001b[0;36mpandas._libs.hashtable.PyObjectHashTable.get_item\u001b[1;34m()\u001b[0m\n",
      "\u001b[1;31mKeyError\u001b[0m: 'LAST(loans.MEAN(payments.payment_amount))'"
     ]
    }
   ],
   "source": [
    "# Show a feature with a depth of 2\n",
    "pd.DataFrame(features['LAST(loans.MEAN(payments.payment_amount))'].head(10))"
   ]
  },
  {
   "cell_type": "markdown",
   "metadata": {
    "colab_type": "text",
    "id": "wyxx5JFph2S8"
   },
   "source": [
    "We can create features of arbitrary depth by stacking more primitives. However, when I have used featuretools I've never gone beyond a depth of 2! After this point, the features become very convoluted to understand. I'd encourage anyone interested to experiment with increasing the depth (maybe for a real problem) and see if there is value to \"going deeper\".\n",
    "\n",
    "## Automated Deep Feature Synthesis\n",
    "\n",
    "In addition to manually specifying aggregation and transformation feature primitives, we can let featuretools automatically generate many new features. We do this by making the same `ft.dfs` function call, but without passing in any primitives. We just set the `max_depth` parameter and featuretools will automatically try many all combinations of feature primitives to the ordered depth. \n",
    "\n",
    "When running on large datasets, this process can take quite a while, but for our example data, it will be relatively quick. For this call, we only need to specify the `entityset`, the `target_entity` (which will again be `clients`), and the `max_depth`. "
   ]
  },
  {
   "cell_type": "code",
   "execution_count": 95,
   "metadata": {
    "colab": {
     "autoexec": {
      "startup": false,
      "wait_interval": 0
     }
    },
    "colab_type": "code",
    "id": "iKQx-y2mgv_x"
   },
   "outputs": [],
   "source": [
    "# Perform deep feature synthesis without specifying primitives\n",
    "features, feature_names = ft.dfs(entityset=es, target_entity='clients', \n",
    "                                 max_depth = 2)"
   ]
  },
  {
   "cell_type": "code",
   "execution_count": 96,
   "metadata": {
    "colab": {
     "autoexec": {
      "startup": false,
      "wait_interval": 0
     }
    },
    "colab_type": "code",
    "id": "H-CsAUe6jS0F"
   },
   "outputs": [
    {
     "output_type": "execute_result",
     "data": {
      "text/plain": "           SUM(loans.loan_amount)  SUM(loans.rate)  STD(loans.loan_amount)  \\\nclient_id                                                                    \n42320                      105931            36.86             4165.826885   \n39384                      149444            67.23             3964.286840   \n26945                      106889            42.83             4543.621769   \n41472                      120173            63.70             4257.668536   \n46180                      154017            70.05             3835.726436   \n\n           STD(loans.rate)  MAX(loans.loan_amount)  MAX(loans.rate)  \\\nclient_id                                                             \n42320             1.984938                   13887             6.74   \n39384             2.629599                   14654             9.23   \n26945             1.619717                   14593             5.65   \n41472             3.198366                   13657             9.82   \n46180             2.550263                   14081             9.26   \n\n           SKEW(loans.loan_amount)  SKEW(loans.rate)  MIN(loans.loan_amount)  \\\nclient_id                                                                      \n42320                     0.185406          0.993713                    1070   \n39384                    -0.242626          0.992152                    1770   \n26945                     0.174492         -0.002227                     653   \n41472                    -0.075884          0.416789                     986   \n46180                     0.081292          0.945069                    1607   \n\n           MIN(loans.rate)  ...  MIN(payments.loans.loan_amount)  \\\nclient_id                   ...                                    \n42320                 0.38  ...                             1070   \n39384                 0.43  ...                             1770   \n26945                 0.13  ...                              653   \n41472                 0.01  ...                              986   \n46180                 0.57  ...                             1607   \n\n           MIN(payments.loans.rate)  MEAN(payments.loans.loan_amount)  \\\nclient_id                                                               \n42320                          0.38                       7028.058333   \n39384                          0.43                       7957.130137   \n26945                          0.13                       6884.401786   \n41472                          0.01                       7473.628571   \n46180                          0.57                       7668.899329   \n\n           MEAN(payments.loans.rate)  NUM_UNIQUE(payments.loans.client_id)  \\\nclient_id                                                                    \n42320                       2.523667                                     1   \n39384                       3.418630                                     1   \n26945                       2.947589                                     1   \n41472                       4.146286                                     1   \n46180                       3.882081                                     1   \n\n           NUM_UNIQUE(payments.loans.loan_type)  \\\nclient_id                                         \n42320                                         4   \n39384                                         4   \n26945                                         4   \n41472                                         4   \n46180                                         4   \n\n          NUM_UNIQUE(payments.loans.repaid)  MODE(payments.loans.client_id)  \\\nclient_id                                                                     \n42320                                     2                           42320   \n39384                                     2                           39384   \n26945                                     2                           26945   \n41472                                     2                           41472   \n46180                                     2                           46180   \n\n           MODE(payments.loans.loan_type)  MODE(payments.loans.repaid)  \nclient_id                                                               \n42320                                home                            1  \n39384                                cash                            1  \n26945                              credit                            0  \n41472                               other                            1  \n46180                               other                            0  \n\n[5 rows x 108 columns]",
      "text/html": "<div>\n<style scoped>\n    .dataframe tbody tr th:only-of-type {\n        vertical-align: middle;\n    }\n\n    .dataframe tbody tr th {\n        vertical-align: top;\n    }\n\n    .dataframe thead th {\n        text-align: right;\n    }\n</style>\n<table border=\"1\" class=\"dataframe\">\n  <thead>\n    <tr style=\"text-align: right;\">\n      <th></th>\n      <th>SUM(loans.loan_amount)</th>\n      <th>SUM(loans.rate)</th>\n      <th>STD(loans.loan_amount)</th>\n      <th>STD(loans.rate)</th>\n      <th>MAX(loans.loan_amount)</th>\n      <th>MAX(loans.rate)</th>\n      <th>SKEW(loans.loan_amount)</th>\n      <th>SKEW(loans.rate)</th>\n      <th>MIN(loans.loan_amount)</th>\n      <th>MIN(loans.rate)</th>\n      <th>...</th>\n      <th>MIN(payments.loans.loan_amount)</th>\n      <th>MIN(payments.loans.rate)</th>\n      <th>MEAN(payments.loans.loan_amount)</th>\n      <th>MEAN(payments.loans.rate)</th>\n      <th>NUM_UNIQUE(payments.loans.client_id)</th>\n      <th>NUM_UNIQUE(payments.loans.loan_type)</th>\n      <th>NUM_UNIQUE(payments.loans.repaid)</th>\n      <th>MODE(payments.loans.client_id)</th>\n      <th>MODE(payments.loans.loan_type)</th>\n      <th>MODE(payments.loans.repaid)</th>\n    </tr>\n    <tr>\n      <th>client_id</th>\n      <th></th>\n      <th></th>\n      <th></th>\n      <th></th>\n      <th></th>\n      <th></th>\n      <th></th>\n      <th></th>\n      <th></th>\n      <th></th>\n      <th></th>\n      <th></th>\n      <th></th>\n      <th></th>\n      <th></th>\n      <th></th>\n      <th></th>\n      <th></th>\n      <th></th>\n      <th></th>\n      <th></th>\n    </tr>\n  </thead>\n  <tbody>\n    <tr>\n      <th>42320</th>\n      <td>105931</td>\n      <td>36.86</td>\n      <td>4165.826885</td>\n      <td>1.984938</td>\n      <td>13887</td>\n      <td>6.74</td>\n      <td>0.185406</td>\n      <td>0.993713</td>\n      <td>1070</td>\n      <td>0.38</td>\n      <td>...</td>\n      <td>1070</td>\n      <td>0.38</td>\n      <td>7028.058333</td>\n      <td>2.523667</td>\n      <td>1</td>\n      <td>4</td>\n      <td>2</td>\n      <td>42320</td>\n      <td>home</td>\n      <td>1</td>\n    </tr>\n    <tr>\n      <th>39384</th>\n      <td>149444</td>\n      <td>67.23</td>\n      <td>3964.286840</td>\n      <td>2.629599</td>\n      <td>14654</td>\n      <td>9.23</td>\n      <td>-0.242626</td>\n      <td>0.992152</td>\n      <td>1770</td>\n      <td>0.43</td>\n      <td>...</td>\n      <td>1770</td>\n      <td>0.43</td>\n      <td>7957.130137</td>\n      <td>3.418630</td>\n      <td>1</td>\n      <td>4</td>\n      <td>2</td>\n      <td>39384</td>\n      <td>cash</td>\n      <td>1</td>\n    </tr>\n    <tr>\n      <th>26945</th>\n      <td>106889</td>\n      <td>42.83</td>\n      <td>4543.621769</td>\n      <td>1.619717</td>\n      <td>14593</td>\n      <td>5.65</td>\n      <td>0.174492</td>\n      <td>-0.002227</td>\n      <td>653</td>\n      <td>0.13</td>\n      <td>...</td>\n      <td>653</td>\n      <td>0.13</td>\n      <td>6884.401786</td>\n      <td>2.947589</td>\n      <td>1</td>\n      <td>4</td>\n      <td>2</td>\n      <td>26945</td>\n      <td>credit</td>\n      <td>0</td>\n    </tr>\n    <tr>\n      <th>41472</th>\n      <td>120173</td>\n      <td>63.70</td>\n      <td>4257.668536</td>\n      <td>3.198366</td>\n      <td>13657</td>\n      <td>9.82</td>\n      <td>-0.075884</td>\n      <td>0.416789</td>\n      <td>986</td>\n      <td>0.01</td>\n      <td>...</td>\n      <td>986</td>\n      <td>0.01</td>\n      <td>7473.628571</td>\n      <td>4.146286</td>\n      <td>1</td>\n      <td>4</td>\n      <td>2</td>\n      <td>41472</td>\n      <td>other</td>\n      <td>1</td>\n    </tr>\n    <tr>\n      <th>46180</th>\n      <td>154017</td>\n      <td>70.05</td>\n      <td>3835.726436</td>\n      <td>2.550263</td>\n      <td>14081</td>\n      <td>9.26</td>\n      <td>0.081292</td>\n      <td>0.945069</td>\n      <td>1607</td>\n      <td>0.57</td>\n      <td>...</td>\n      <td>1607</td>\n      <td>0.57</td>\n      <td>7668.899329</td>\n      <td>3.882081</td>\n      <td>1</td>\n      <td>4</td>\n      <td>2</td>\n      <td>46180</td>\n      <td>other</td>\n      <td>0</td>\n    </tr>\n  </tbody>\n</table>\n<p>5 rows × 108 columns</p>\n</div>"
     },
     "metadata": {},
     "execution_count": 96
    }
   ],
   "source": [
    "features.iloc[:, 4:].head()"
   ]
  },
  {
   "cell_type": "markdown",
   "metadata": {
    "colab_type": "text",
    "id": "s3cOoBMakhx8"
   },
   "source": [
    "Deep feature synthesis has created 90 new features out of the existing data! While we could have created all of these manually, I am glad to not have to write all that code by hand. The primary benefit of featuretools is that it creates features without any subjective human biases. Even a human with considerable domain knowledge will be limited by their imagination when making new features (not to mention time). Automated feature engineering is not limited by these factors (instead it's limited by computation time) and provides a good starting point for feature creation. This process likely will not remove the human contribution to feature engineering completely because a human can still use domain knowledge and machine learning expertise to select the most important features or build new features from those suggested by automated deep feature synthesis.\n",
    "\n",
    "# Next Steps\n",
    "\n",
    "While automatic feature engineering solves one problem, it provides us with another problem: too many features! Although it's difficult to say which features will be important to a given machine learning task ahead of time, it's likely that not all of the features made by featuretools add value. In fact, having too many features is a significant issue in machine learning because it makes training a model much harder. The [irrelevant features can drown out the important features](https://pdfs.semanticscholar.org/a83b/ddb34618cc68f1014ca12eef7f537825d104.pdf), leaving a model unable to learn how to map the features to the target.\n",
    "\n",
    "This problem is known as the [\"curse of dimensionality\"](https://en.wikipedia.org/wiki/Curse_of_dimensionality#Machine_learning) and is addressed through the process of [feature reduction and selection](http://scikit-learn.org/stable/modules/feature_selection.html), which means [removing low-value features](https://machinelearningmastery.com/feature-selection-machine-learning-python/) from the data. Defining which features are useful is an important problem where a data scientist can still add considerable value to the feature engineering task. Feature reduction will have to be another topic for another day!"
   ]
  },
  {
   "cell_type": "markdown",
   "metadata": {
    "colab_type": "text",
    "id": "jbjt01ADmEdX"
   },
   "source": [
    "# Conclusions\n",
    "\n",
    "In this notebook, we saw how to apply automated feature engineering to an example dataset. This is a powerful method which allows us to overcome the human limits of time and imagination to create many new features from multiple tables of data. Featuretools is built on the idea of deep feature synthesis, which means stacking multiple simple feature primitives - __aggregations and transformations__ - to create new features. Feature engineering allows us to combine information across many tables into a single dataframe that we can then use for machine learning model training. Finally, the next step after creating all of these features is figuring out which ones are important. \n",
    "\n",
    "Featuretools is currently the only Python option for this process, but with the recent emphasis on automating aspects of the machine learning pipeline, other competitiors will probably enter the sphere. While the exact tools will change, the idea of automatically creating new features out of existing data will grow in importance. Staying up-to-date on methods such as automated feature engineering is crucial in the rapidly changing field of data science. Now go out there and find a problem on which to apply featuretools! \n",
    "\n",
    "For more information, check out the [documentation for featuretools](https://docs.featuretools.com/index.html). Also, read about how featuretools is [used in the real world by Feature Labs](https://www.featurelabs.com/), the company behind the open-source library."
   ]
  },
  {
   "cell_type": "code",
   "execution_count": null,
   "metadata": {},
   "outputs": [],
   "source": []
  }
 ],
 "metadata": {
  "colab": {
   "default_view": {},
   "name": "Automated Feature Engineering.ipynb",
   "private_outputs": true,
   "provenance": [],
   "version": "0.3.2",
   "views": {}
  },
  "kernelspec": {
   "display_name": "Python 3",
   "language": "python",
   "name": "python3"
  },
  "language_info": {
   "codemirror_mode": {
    "name": "ipython",
    "version": 3
   },
   "file_extension": ".py",
   "mimetype": "text/x-python",
   "name": "python",
   "nbconvert_exporter": "python",
   "pygments_lexer": "ipython3",
   "version": "3.8.1-final"
  }
 },
 "nbformat": 4,
 "nbformat_minor": 1
}